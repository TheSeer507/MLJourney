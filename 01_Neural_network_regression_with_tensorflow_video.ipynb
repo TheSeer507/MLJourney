{
 "cells": [
  {
   "cell_type": "markdown",
   "id": "80736880",
   "metadata": {},
   "source": [
    "# Introduction to Regression with Neural Network in Tensorflow\n",
    "\n",
    "There are many definition for a regression problem but in our case, we are going to simplify it. \n",
    "Predicting a numerical variable based on some other combination of variables, even shorter...\n",
    "predicting a number.\n"
   ]
  },
  {
   "cell_type": "code",
   "execution_count": 2,
   "id": "34cd3fac",
   "metadata": {},
   "outputs": [
    {
     "name": "stdout",
     "output_type": "stream",
     "text": [
      "2.10.0\n"
     ]
    }
   ],
   "source": [
    "# Import Tensorflow \n",
    "import tensorflow as tf\n",
    "print(tf.__version__)"
   ]
  },
  {
   "cell_type": "markdown",
   "id": "e1b8fdcd",
   "metadata": {},
   "source": [
    "## Create some data to view and fit"
   ]
  },
  {
   "cell_type": "code",
   "execution_count": 7,
   "id": "b95eec14",
   "metadata": {},
   "outputs": [
    {
     "data": {
      "text/plain": [
       "<matplotlib.collections.PathCollection at 0x14eb7ba4400>"
      ]
     },
     "execution_count": 7,
     "metadata": {},
     "output_type": "execute_result"
    },
    {
     "data": {
      "image/png": "[encoded data removed]",
      "text/plain": [
       "<Figure size 640x480 with 1 Axes>"
      ]
     },
     "metadata": {},
     "output_type": "display_data"
    }
   ],
   "source": [
    "import numpy as np\n",
    "import matplotlib.pyplot as plt\n",
    "\n",
    "# Create features\n",
    "\n",
    "X = np.array([-7.0, -4.0, -1.0, 2.0, 5.0, 8.0, 11.0, 14.0])\n",
    "\n",
    "# Create Labels\n",
    "\n",
    "y = np.array([3.0, 6.0, 9.0, 12.0,15.0,18.0,21.0,24.0])\n",
    "\n",
    "#visualize it\n",
    "plt.scatter(X,y)"
   ]
  },
  {
   "cell_type": "code",
   "execution_count": 3,
   "id": "4b810cb5",
   "metadata": {},
   "outputs": [
    {
     "data": {
      "text/plain": [
       "array([ True,  True,  True,  True,  True,  True,  True,  True])"
      ]
     },
     "execution_count": 3,
     "metadata": {},
     "output_type": "execute_result"
    }
   ],
   "source": [
    "y == X + 10"
   ]
  },
  {
   "cell_type": "markdown",
   "id": "8659d29e",
   "metadata": {},
   "source": [
    "## Input and output shape"
   ]
  },
  {
   "cell_type": "code",
   "execution_count": 4,
   "id": "01a86a48",
   "metadata": {},
   "outputs": [
    {
     "data": {
      "text/plain": [
       "(<tf.Tensor: shape=(3,), dtype=string, numpy=array([b'bedroom', b'bathroom', b'garage'], dtype=object)>,\n",
       " <tf.Tensor: shape=(1,), dtype=int32, numpy=array([939700])>)"
      ]
     },
     "execution_count": 4,
     "metadata": {},
     "output_type": "execute_result"
    }
   ],
   "source": [
    "# Create a demo tensor for our housing prediction problem\n",
    "\n",
    "house_info = tf.constant([\"bedroom\",\"bathroom\",\"garage\"])\n",
    "house_price = tf.constant([939700])\n",
    "house_info, house_price"
   ]
  },
  {
   "cell_type": "code",
   "execution_count": 5,
   "id": "feb09558",
   "metadata": {},
   "outputs": [
    {
     "data": {
      "text/plain": [
       "((8,), (8,))"
      ]
     },
     "execution_count": 5,
     "metadata": {},
     "output_type": "execute_result"
    }
   ],
   "source": [
    "input_shape = X.shape\n",
    "output_shape = y.shape\n",
    "input_shape, output_shape"
   ]
  },
  {
   "cell_type": "code",
   "execution_count": 6,
   "id": "c00a604f",
   "metadata": {},
   "outputs": [
    {
     "data": {
      "text/plain": [
       "(-7.0, 3.0)"
      ]
     },
     "execution_count": 6,
     "metadata": {},
     "output_type": "execute_result"
    }
   ],
   "source": [
    "X[0], y[0]"
   ]
  },
  {
   "cell_type": "code",
   "execution_count": 7,
   "id": "643976f8",
   "metadata": {},
   "outputs": [
    {
     "data": {
      "text/plain": [
       "(<tf.Tensor: shape=(8,), dtype=float64, numpy=array([-7., -4., -1.,  2.,  5.,  8., 11., 14.])>,\n",
       " <tf.Tensor: shape=(8,), dtype=float64, numpy=array([ 3.,  6.,  9., 12., 15., 18., 21., 24.])>)"
      ]
     },
     "execution_count": 7,
     "metadata": {},
     "output_type": "execute_result"
    }
   ],
   "source": [
    "#Turn our NumPy arrays into tensors\n",
    "X = tf.constant(X)\n",
    "y = tf.constant(y)\n",
    "X,y"
   ]
  },
  {
   "cell_type": "code",
   "execution_count": 8,
   "id": "57f42c92",
   "metadata": {},
   "outputs": [
    {
     "data": {
      "text/plain": [
       "(TensorShape([]), TensorShape([]))"
      ]
     },
     "execution_count": 8,
     "metadata": {},
     "output_type": "execute_result"
    }
   ],
   "source": [
    "input_shape = X[0].shape\n",
    "output_shape = y[0].shape\n",
    "input_shape, output_shape"
   ]
  },
  {
   "cell_type": "markdown",
   "id": "378de0a8",
   "metadata": {},
   "source": [
    "### Steps in modelling with tensorflow\n",
    "\n",
    "1. Creating a Model - define the input and output layers, as well as hidden layers of a deep learning model.\n",
    "2. Compiling a model - Define the loss function, the function which tells our model how wrong it is and the optimizer\n",
    "    it tells us how to improve our model. And Evaluation Metrics \n",
    "3. Fitting a model - letting the model try to find patterns between X & y (feature and labels)"
   ]
  },
  {
   "cell_type": "code",
   "execution_count": 9,
   "id": "d346290e",
   "metadata": {},
   "outputs": [
    {
     "name": "stdout",
     "output_type": "stream",
     "text": [
      "Epoch 1/10\n",
      "1/1 [==============================] - 1s 784ms/step - loss: 10.3687 - mae: 10.3687\n",
      "Epoch 2/10\n",
      "1/1 [==============================] - 0s 5ms/step - loss: 10.2362 - mae: 10.2362\n",
      "Epoch 3/10\n",
      "1/1 [==============================] - 0s 5ms/step - loss: 10.1037 - mae: 10.1037\n",
      "Epoch 4/10\n",
      "1/1 [==============================] - 0s 4ms/step - loss: 9.9712 - mae: 9.9712\n",
      "Epoch 5/10\n",
      "1/1 [==============================] - 0s 4ms/step - loss: 9.8387 - mae: 9.8387\n",
      "Epoch 6/10\n",
      "1/1 [==============================] - 0s 4ms/step - loss: 9.7062 - mae: 9.7062\n",
      "Epoch 7/10\n",
      "1/1 [==============================] - 0s 4ms/step - loss: 9.5737 - mae: 9.5737\n",
      "Epoch 8/10\n",
      "1/1 [==============================] - 0s 3ms/step - loss: 9.4412 - mae: 9.4412\n",
      "Epoch 9/10\n",
      "1/1 [==============================] - 0s 4ms/step - loss: 9.3087 - mae: 9.3087\n",
      "Epoch 10/10\n",
      "1/1 [==============================] - 0s 3ms/step - loss: 9.1762 - mae: 9.1762\n"
     ]
    },
    {
     "data": {
      "text/plain": [
       "<keras.callbacks.History at 0x1f6ad3989a0>"
      ]
     },
     "execution_count": 9,
     "metadata": {},
     "output_type": "execute_result"
    }
   ],
   "source": [
    "# Set a random seed\n",
    "tf.random.set_seed(42)\n",
    "\n",
    "# 1. Create a model using the Sequential API\n",
    "model = tf.keras.Sequential([\n",
    "    tf.keras.layers.Dense(1)\n",
    "])\n",
    "\n",
    "#2. Compile\n",
    "\n",
    "model.compile(loss=tf.keras.losses.mae,\n",
    "             optimizer=tf.keras.optimizers.SGD(),\n",
    "             metrics=[\"mae\"]) #Stochaistic gradient descent\n",
    "\n",
    "#3. Fit de Model\n",
    "model.fit(tf.expand_dims(X, axis=-1),y, epochs=10)"
   ]
  },
  {
   "cell_type": "code",
   "execution_count": 10,
   "id": "d6728873",
   "metadata": {},
   "outputs": [
    {
     "data": {
      "text/plain": [
       "(<tf.Tensor: shape=(8,), dtype=float64, numpy=array([-7., -4., -1.,  2.,  5.,  8., 11., 14.])>,\n",
       " <tf.Tensor: shape=(8,), dtype=float64, numpy=array([ 3.,  6.,  9., 12., 15., 18., 21., 24.])>)"
      ]
     },
     "execution_count": 10,
     "metadata": {},
     "output_type": "execute_result"
    }
   ],
   "source": [
    "#Check out X and Y\n",
    "X, y"
   ]
  },
  {
   "cell_type": "code",
   "execution_count": 11,
   "id": "d89c092c",
   "metadata": {},
   "outputs": [
    {
     "name": "stdout",
     "output_type": "stream",
     "text": [
      "1/1 [==============================] - 0s 71ms/step\n"
     ]
    },
    {
     "data": {
      "text/plain": [
       "array([[24.993067]], dtype=float32)"
      ]
     },
     "execution_count": 11,
     "metadata": {},
     "output_type": "execute_result"
    }
   ],
   "source": [
    "#Try and make a prediction using our model\n",
    "\n",
    "y_pred = model.predict([20.0])\n",
    "y_pred"
   ]
  },
  {
   "cell_type": "code",
   "execution_count": 12,
   "id": "4c005cfc",
   "metadata": {},
   "outputs": [
    {
     "data": {
      "text/plain": [
       "array([[32.493065]], dtype=float32)"
      ]
     },
     "execution_count": 12,
     "metadata": {},
     "output_type": "execute_result"
    }
   ],
   "source": [
    "y_pred + 7.5"
   ]
  },
  {
   "cell_type": "markdown",
   "id": "17970b51",
   "metadata": {},
   "source": [
    "## Improve a Model \n",
    "\n",
    "We can improve a model by altering the steps we took to create a model.\n",
    "\n",
    "1. Creating a model - Here we might add more layers, increase the number of hidden units or Neurons. Change Activation function of each layers\n",
    "2. Compiling a model - Here we might change the optimization function or perhaps the learning rate of the optimization function\n",
    "3. Fitting a Model - Here we might a model for more epochs, train it for longer. Or provide more data for learning"
   ]
  },
  {
   "cell_type": "code",
   "execution_count": 13,
   "id": "995b3379",
   "metadata": {},
   "outputs": [
    {
     "name": "stdout",
     "output_type": "stream",
     "text": [
      "Epoch 1/100\n",
      "1/1 [==============================] - 0s 200ms/step - loss: 14.1176 - mae: 14.1176\n",
      "Epoch 2/100\n",
      "1/1 [==============================] - 0s 4ms/step - loss: 13.9851 - mae: 13.9851\n",
      "Epoch 3/100\n",
      "1/1 [==============================] - 0s 4ms/step - loss: 13.8526 - mae: 13.8526\n",
      "Epoch 4/100\n",
      "1/1 [==============================] - 0s 4ms/step - loss: 13.7201 - mae: 13.7201\n",
      "Epoch 5/100\n",
      "1/1 [==============================] - 0s 6ms/step - loss: 13.5876 - mae: 13.5876\n",
      "Epoch 6/100\n",
      "1/1 [==============================] - 0s 4ms/step - loss: 13.4551 - mae: 13.4551\n",
      "Epoch 7/100\n",
      "1/1 [==============================] - 0s 4ms/step - loss: 13.3226 - mae: 13.3226\n",
      "Epoch 8/100\n",
      "1/1 [==============================] - 0s 3ms/step - loss: 13.1901 - mae: 13.1901\n",
      "Epoch 9/100\n",
      "1/1 [==============================] - 0s 3ms/step - loss: 13.0576 - mae: 13.0576\n",
      "Epoch 10/100\n",
      "1/1 [==============================] - 0s 5ms/step - loss: 12.9251 - mae: 12.9251\n",
      "Epoch 11/100\n",
      "1/1 [==============================] - 0s 4ms/step - loss: 12.7926 - mae: 12.7926\n",
      "Epoch 12/100\n",
      "1/1 [==============================] - 0s 4ms/step - loss: 12.6601 - mae: 12.6601\n",
      "Epoch 13/100\n",
      "1/1 [==============================] - 0s 4ms/step - loss: 12.5276 - mae: 12.5276\n",
      "Epoch 14/100\n",
      "1/1 [==============================] - 0s 4ms/step - loss: 12.3951 - mae: 12.3951\n",
      "Epoch 15/100\n",
      "1/1 [==============================] - 0s 5ms/step - loss: 12.2626 - mae: 12.2626\n",
      "Epoch 16/100\n",
      "1/1 [==============================] - 0s 4ms/step - loss: 12.1301 - mae: 12.1301\n",
      "Epoch 17/100\n",
      "1/1 [==============================] - 0s 3ms/step - loss: 11.9976 - mae: 11.9976\n",
      "Epoch 18/100\n",
      "1/1 [==============================] - 0s 4ms/step - loss: 11.8651 - mae: 11.8651\n",
      "Epoch 19/100\n",
      "1/1 [==============================] - 0s 4ms/step - loss: 11.7326 - mae: 11.7326\n",
      "Epoch 20/100\n",
      "1/1 [==============================] - 0s 5ms/step - loss: 11.6001 - mae: 11.6001\n",
      "Epoch 21/100\n",
      "1/1 [==============================] - 0s 4ms/step - loss: 11.4676 - mae: 11.4676\n",
      "Epoch 22/100\n",
      "1/1 [==============================] - 0s 5ms/step - loss: 11.3351 - mae: 11.3351\n",
      "Epoch 23/100\n",
      "1/1 [==============================] - 0s 4ms/step - loss: 11.2026 - mae: 11.2026\n",
      "Epoch 24/100\n",
      "1/1 [==============================] - 0s 6ms/step - loss: 11.0701 - mae: 11.0701\n",
      "Epoch 25/100\n",
      "1/1 [==============================] - 0s 5ms/step - loss: 10.9376 - mae: 10.9376\n",
      "Epoch 26/100\n",
      "1/1 [==============================] - 0s 3ms/step - loss: 10.8051 - mae: 10.8051\n",
      "Epoch 27/100\n",
      "1/1 [==============================] - 0s 4ms/step - loss: 10.6726 - mae: 10.6726\n",
      "Epoch 28/100\n",
      "1/1 [==============================] - 0s 4ms/step - loss: 10.5401 - mae: 10.5401\n",
      "Epoch 29/100\n",
      "1/1 [==============================] - 0s 5ms/step - loss: 10.4076 - mae: 10.4076\n",
      "Epoch 30/100\n",
      "1/1 [==============================] - 0s 4ms/step - loss: 10.2751 - mae: 10.2751\n",
      "Epoch 31/100\n",
      "1/1 [==============================] - 0s 3ms/step - loss: 10.1426 - mae: 10.1426\n",
      "Epoch 32/100\n",
      "1/1 [==============================] - 0s 4ms/step - loss: 10.0101 - mae: 10.0101\n",
      "Epoch 33/100\n",
      "1/1 [==============================] - 0s 5ms/step - loss: 9.8776 - mae: 9.8776\n",
      "Epoch 34/100\n",
      "1/1 [==============================] - 0s 4ms/step - loss: 9.7451 - mae: 9.7451\n",
      "Epoch 35/100\n",
      "1/1 [==============================] - 0s 5ms/step - loss: 9.6126 - mae: 9.6126\n",
      "Epoch 36/100\n",
      "1/1 [==============================] - 0s 4ms/step - loss: 9.4801 - mae: 9.4801\n",
      "Epoch 37/100\n",
      "1/1 [==============================] - 0s 4ms/step - loss: 9.3476 - mae: 9.3476\n",
      "Epoch 38/100\n",
      "1/1 [==============================] - 0s 5ms/step - loss: 9.2151 - mae: 9.2151\n",
      "Epoch 39/100\n",
      "1/1 [==============================] - 0s 4ms/step - loss: 9.0826 - mae: 9.0826\n",
      "Epoch 40/100\n",
      "1/1 [==============================] - 0s 5ms/step - loss: 8.9501 - mae: 8.9501\n",
      "Epoch 41/100\n",
      "1/1 [==============================] - 0s 4ms/step - loss: 8.8176 - mae: 8.8176\n",
      "Epoch 42/100\n",
      "1/1 [==============================] - 0s 4ms/step - loss: 8.6851 - mae: 8.6851\n",
      "Epoch 43/100\n",
      "1/1 [==============================] - 0s 4ms/step - loss: 8.5526 - mae: 8.5526\n",
      "Epoch 44/100\n",
      "1/1 [==============================] - 0s 4ms/step - loss: 8.4201 - mae: 8.4201\n",
      "Epoch 45/100\n",
      "1/1 [==============================] - 0s 5ms/step - loss: 8.2876 - mae: 8.2876\n",
      "Epoch 46/100\n",
      "1/1 [==============================] - 0s 4ms/step - loss: 8.1551 - mae: 8.1551\n",
      "Epoch 47/100\n",
      "1/1 [==============================] - 0s 4ms/step - loss: 8.0226 - mae: 8.0226\n",
      "Epoch 48/100\n",
      "1/1 [==============================] - 0s 5ms/step - loss: 7.8901 - mae: 7.8901\n",
      "Epoch 49/100\n",
      "1/1 [==============================] - 0s 4ms/step - loss: 7.7576 - mae: 7.7576\n",
      "Epoch 50/100\n",
      "1/1 [==============================] - 0s 5ms/step - loss: 7.6251 - mae: 7.6251\n",
      "Epoch 51/100\n",
      "1/1 [==============================] - 0s 3ms/step - loss: 7.4926 - mae: 7.4926\n",
      "Epoch 52/100\n",
      "1/1 [==============================] - 0s 4ms/step - loss: 7.3601 - mae: 7.3601\n",
      "Epoch 53/100\n",
      "1/1 [==============================] - 0s 4ms/step - loss: 7.2276 - mae: 7.2276\n",
      "Epoch 54/100\n",
      "1/1 [==============================] - 0s 4ms/step - loss: 7.1025 - mae: 7.1025\n",
      "Epoch 55/100\n",
      "1/1 [==============================] - 0s 3ms/step - loss: 7.0969 - mae: 7.0969\n",
      "Epoch 56/100\n",
      "1/1 [==============================] - 0s 4ms/step - loss: 7.0912 - mae: 7.0912\n",
      "Epoch 57/100\n",
      "1/1 [==============================] - 0s 4ms/step - loss: 7.0856 - mae: 7.0856\n",
      "Epoch 58/100\n",
      "1/1 [==============================] - 0s 6ms/step - loss: 7.0800 - mae: 7.0800\n",
      "Epoch 59/100\n",
      "1/1 [==============================] - 0s 3ms/step - loss: 7.0744 - mae: 7.0744\n",
      "Epoch 60/100\n",
      "1/1 [==============================] - 0s 4ms/step - loss: 7.0688 - mae: 7.0688\n",
      "Epoch 61/100\n",
      "1/1 [==============================] - 0s 4ms/step - loss: 7.0631 - mae: 7.0631\n",
      "Epoch 62/100\n",
      "1/1 [==============================] - 0s 4ms/step - loss: 7.0575 - mae: 7.0575\n",
      "Epoch 63/100\n",
      "1/1 [==============================] - 0s 4ms/step - loss: 7.0519 - mae: 7.0519\n",
      "Epoch 64/100\n",
      "1/1 [==============================] - 0s 4ms/step - loss: 7.0462 - mae: 7.0462\n",
      "Epoch 65/100\n",
      "1/1 [==============================] - 0s 4ms/step - loss: 7.0406 - mae: 7.0406\n",
      "Epoch 66/100\n",
      "1/1 [==============================] - 0s 4ms/step - loss: 7.0350 - mae: 7.0350\n",
      "Epoch 67/100\n",
      "1/1 [==============================] - 0s 3ms/step - loss: 7.0294 - mae: 7.0294\n",
      "Epoch 68/100\n",
      "1/1 [==============================] - 0s 3ms/step - loss: 7.0238 - mae: 7.0238\n",
      "Epoch 69/100\n",
      "1/1 [==============================] - 0s 4ms/step - loss: 7.0181 - mae: 7.0181\n",
      "Epoch 70/100\n",
      "1/1 [==============================] - 0s 3ms/step - loss: 7.0125 - mae: 7.0125\n",
      "Epoch 71/100\n",
      "1/1 [==============================] - 0s 4ms/step - loss: 7.0069 - mae: 7.0069\n",
      "Epoch 72/100\n",
      "1/1 [==============================] - 0s 4ms/step - loss: 7.0012 - mae: 7.0012\n",
      "Epoch 73/100\n",
      "1/1 [==============================] - 0s 4ms/step - loss: 6.9956 - mae: 6.9956\n",
      "Epoch 74/100\n",
      "1/1 [==============================] - 0s 5ms/step - loss: 6.9900 - mae: 6.9900\n",
      "Epoch 75/100\n",
      "1/1 [==============================] - 0s 4ms/step - loss: 6.9844 - mae: 6.9844\n",
      "Epoch 76/100\n",
      "1/1 [==============================] - 0s 4ms/step - loss: 6.9788 - mae: 6.9788\n",
      "Epoch 77/100\n",
      "1/1 [==============================] - 0s 4ms/step - loss: 6.9731 - mae: 6.9731\n",
      "Epoch 78/100\n",
      "1/1 [==============================] - 0s 4ms/step - loss: 6.9675 - mae: 6.9675\n",
      "Epoch 79/100\n",
      "1/1 [==============================] - 0s 4ms/step - loss: 6.9619 - mae: 6.9619\n",
      "Epoch 80/100\n",
      "1/1 [==============================] - 0s 4ms/step - loss: 6.9563 - mae: 6.9563\n",
      "Epoch 81/100\n",
      "1/1 [==============================] - 0s 3ms/step - loss: 6.9506 - mae: 6.9506\n",
      "Epoch 82/100\n",
      "1/1 [==============================] - 0s 4ms/step - loss: 6.9450 - mae: 6.9450\n",
      "Epoch 83/100\n",
      "1/1 [==============================] - 0s 3ms/step - loss: 6.9394 - mae: 6.9394\n",
      "Epoch 84/100\n",
      "1/1 [==============================] - 0s 5ms/step - loss: 6.9338 - mae: 6.9338\n",
      "Epoch 85/100\n",
      "1/1 [==============================] - 0s 5ms/step - loss: 6.9281 - mae: 6.9281\n",
      "Epoch 86/100\n",
      "1/1 [==============================] - 0s 4ms/step - loss: 6.9225 - mae: 6.9225\n",
      "Epoch 87/100\n",
      "1/1 [==============================] - 0s 5ms/step - loss: 6.9169 - mae: 6.9169\n",
      "Epoch 88/100\n"
     ]
    },
    {
     "name": "stdout",
     "output_type": "stream",
     "text": [
      "1/1 [==============================] - 0s 4ms/step - loss: 6.9113 - mae: 6.9113\n",
      "Epoch 89/100\n",
      "1/1 [==============================] - 0s 4ms/step - loss: 6.9056 - mae: 6.9056\n",
      "Epoch 90/100\n",
      "1/1 [==============================] - 0s 4ms/step - loss: 6.9000 - mae: 6.9000\n",
      "Epoch 91/100\n",
      "1/1 [==============================] - 0s 6ms/step - loss: 6.8944 - mae: 6.8944\n",
      "Epoch 92/100\n",
      "1/1 [==============================] - 0s 6ms/step - loss: 6.8888 - mae: 6.8888\n",
      "Epoch 93/100\n",
      "1/1 [==============================] - 0s 4ms/step - loss: 6.8831 - mae: 6.8831\n",
      "Epoch 94/100\n",
      "1/1 [==============================] - 0s 4ms/step - loss: 6.8775 - mae: 6.8775\n",
      "Epoch 95/100\n",
      "1/1 [==============================] - 0s 4ms/step - loss: 6.8719 - mae: 6.8719\n",
      "Epoch 96/100\n",
      "1/1 [==============================] - 0s 4ms/step - loss: 6.8663 - mae: 6.8663\n",
      "Epoch 97/100\n",
      "1/1 [==============================] - 0s 3ms/step - loss: 6.8606 - mae: 6.8606\n",
      "Epoch 98/100\n",
      "1/1 [==============================] - 0s 4ms/step - loss: 6.8550 - mae: 6.8550\n",
      "Epoch 99/100\n",
      "1/1 [==============================] - 0s 4ms/step - loss: 6.8494 - mae: 6.8494\n",
      "Epoch 100/100\n",
      "1/1 [==============================] - 0s 4ms/step - loss: 6.8438 - mae: 6.8438\n"
     ]
    },
    {
     "data": {
      "text/plain": [
       "<keras.callbacks.History at 0x1f6ad467730>"
      ]
     },
     "execution_count": 13,
     "metadata": {},
     "output_type": "execute_result"
    }
   ],
   "source": [
    "#Lets rebuild our model\n",
    "\n",
    "model = tf.keras.Sequential([\n",
    "    tf.keras.layers.Dense(1)\n",
    "])\n",
    "\n",
    "model.compile(loss=tf.keras.losses.mae,\n",
    "             optimizer=tf.keras.optimizers.SGD(),\n",
    "             metrics=[\"mae\"])\n",
    "\n",
    "model.fit(tf.expand_dims(X, axis=-1),y, epochs=100)"
   ]
  },
  {
   "cell_type": "code",
   "execution_count": 14,
   "id": "fd813600",
   "metadata": {},
   "outputs": [
    {
     "name": "stdout",
     "output_type": "stream",
     "text": [
      "1/1 [==============================] - 0s 53ms/step\n"
     ]
    },
    {
     "data": {
      "text/plain": [
       "array([[29.417727]], dtype=float32)"
      ]
     },
     "execution_count": 14,
     "metadata": {},
     "output_type": "execute_result"
    }
   ],
   "source": [
    "#test prediction\n",
    "model.predict([17.0])"
   ]
  },
  {
   "cell_type": "code",
   "execution_count": 15,
   "id": "f9eb465a",
   "metadata": {},
   "outputs": [
    {
     "name": "stdout",
     "output_type": "stream",
     "text": [
      "Epoch 1/100\n",
      "1/1 [==============================] - 0s 391ms/step - loss: 13.5394 - mae: 13.5394\n",
      "Epoch 2/100\n",
      "1/1 [==============================] - 0s 7ms/step - loss: 12.1370 - mae: 12.1370\n",
      "Epoch 3/100\n",
      "1/1 [==============================] - 0s 9ms/step - loss: 10.9011 - mae: 10.9011\n",
      "Epoch 4/100\n",
      "1/1 [==============================] - 0s 10ms/step - loss: 9.7831 - mae: 9.7831\n",
      "Epoch 5/100\n",
      "1/1 [==============================] - 0s 6ms/step - loss: 8.4876 - mae: 8.4876\n",
      "Epoch 6/100\n",
      "1/1 [==============================] - 0s 7ms/step - loss: 6.9069 - mae: 6.9069\n",
      "Epoch 7/100\n",
      "1/1 [==============================] - 0s 6ms/step - loss: 4.9880 - mae: 4.9880\n",
      "Epoch 8/100\n",
      "1/1 [==============================] - 0s 6ms/step - loss: 4.2445 - mae: 4.2445\n",
      "Epoch 9/100\n",
      "1/1 [==============================] - 0s 10ms/step - loss: 5.1909 - mae: 5.1909\n",
      "Epoch 10/100\n",
      "1/1 [==============================] - 0s 6ms/step - loss: 5.9131 - mae: 5.9131\n",
      "Epoch 11/100\n",
      "1/1 [==============================] - 0s 6ms/step - loss: 6.1184 - mae: 6.1184\n",
      "Epoch 12/100\n",
      "1/1 [==============================] - 0s 6ms/step - loss: 5.9264 - mae: 5.9264\n",
      "Epoch 13/100\n",
      "1/1 [==============================] - 0s 5ms/step - loss: 5.4402 - mae: 5.4402\n",
      "Epoch 14/100\n",
      "1/1 [==============================] - 0s 5ms/step - loss: 4.7675 - mae: 4.7675\n",
      "Epoch 15/100\n",
      "1/1 [==============================] - 0s 7ms/step - loss: 4.1928 - mae: 4.1928\n",
      "Epoch 16/100\n",
      "1/1 [==============================] - 0s 6ms/step - loss: 3.9008 - mae: 3.9008\n",
      "Epoch 17/100\n",
      "1/1 [==============================] - 0s 5ms/step - loss: 4.2504 - mae: 4.2504\n",
      "Epoch 18/100\n",
      "1/1 [==============================] - 0s 6ms/step - loss: 4.6709 - mae: 4.6709\n",
      "Epoch 19/100\n",
      "1/1 [==============================] - 0s 6ms/step - loss: 4.6872 - mae: 4.6872\n",
      "Epoch 20/100\n",
      "1/1 [==============================] - 0s 6ms/step - loss: 4.3873 - mae: 4.3873\n",
      "Epoch 21/100\n",
      "1/1 [==============================] - 0s 6ms/step - loss: 3.9811 - mae: 3.9811\n",
      "Epoch 22/100\n",
      "1/1 [==============================] - 0s 7ms/step - loss: 3.7612 - mae: 3.7612\n",
      "Epoch 23/100\n",
      "1/1 [==============================] - 0s 5ms/step - loss: 3.9095 - mae: 3.9095\n",
      "Epoch 24/100\n",
      "1/1 [==============================] - 0s 9ms/step - loss: 4.0310 - mae: 4.0310\n",
      "Epoch 25/100\n",
      "1/1 [==============================] - 0s 7ms/step - loss: 4.2005 - mae: 4.2005\n",
      "Epoch 26/100\n",
      "1/1 [==============================] - 0s 7ms/step - loss: 4.2461 - mae: 4.2461\n",
      "Epoch 27/100\n",
      "1/1 [==============================] - 0s 5ms/step - loss: 4.0993 - mae: 4.0993\n",
      "Epoch 28/100\n",
      "1/1 [==============================] - 0s 7ms/step - loss: 3.9622 - mae: 3.9622\n",
      "Epoch 29/100\n",
      "1/1 [==============================] - 0s 6ms/step - loss: 3.8005 - mae: 3.8005\n",
      "Epoch 30/100\n",
      "1/1 [==============================] - 0s 6ms/step - loss: 3.6698 - mae: 3.6698\n",
      "Epoch 31/100\n",
      "1/1 [==============================] - 0s 5ms/step - loss: 3.7009 - mae: 3.7009\n",
      "Epoch 32/100\n",
      "1/1 [==============================] - 0s 5ms/step - loss: 3.7861 - mae: 3.7861\n",
      "Epoch 33/100\n",
      "1/1 [==============================] - 0s 6ms/step - loss: 3.8124 - mae: 3.8124\n",
      "Epoch 34/100\n",
      "1/1 [==============================] - 0s 7ms/step - loss: 3.7879 - mae: 3.7879\n",
      "Epoch 35/100\n",
      "1/1 [==============================] - 0s 6ms/step - loss: 3.7164 - mae: 3.7164\n",
      "Epoch 36/100\n",
      "1/1 [==============================] - 0s 6ms/step - loss: 3.5928 - mae: 3.5928\n",
      "Epoch 37/100\n",
      "1/1 [==============================] - 0s 5ms/step - loss: 3.4139 - mae: 3.4139\n",
      "Epoch 38/100\n",
      "1/1 [==============================] - 0s 5ms/step - loss: 3.4794 - mae: 3.4794\n",
      "Epoch 39/100\n",
      "1/1 [==============================] - 0s 5ms/step - loss: 3.5127 - mae: 3.5127\n",
      "Epoch 40/100\n",
      "1/1 [==============================] - 0s 8ms/step - loss: 3.5432 - mae: 3.5432\n",
      "Epoch 41/100\n",
      "1/1 [==============================] - 0s 6ms/step - loss: 3.4833 - mae: 3.4833\n",
      "Epoch 42/100\n",
      "1/1 [==============================] - 0s 6ms/step - loss: 3.4236 - mae: 3.4236\n",
      "Epoch 43/100\n",
      "1/1 [==============================] - 0s 8ms/step - loss: 3.3352 - mae: 3.3352\n",
      "Epoch 44/100\n",
      "1/1 [==============================] - 0s 5ms/step - loss: 3.2224 - mae: 3.2224\n",
      "Epoch 45/100\n",
      "1/1 [==============================] - 0s 6ms/step - loss: 3.0871 - mae: 3.0871\n",
      "Epoch 46/100\n",
      "1/1 [==============================] - 0s 5ms/step - loss: 2.9261 - mae: 2.9261\n",
      "Epoch 47/100\n",
      "1/1 [==============================] - 0s 8ms/step - loss: 2.9642 - mae: 2.9642\n",
      "Epoch 48/100\n",
      "1/1 [==============================] - 0s 5ms/step - loss: 2.8934 - mae: 2.8934\n",
      "Epoch 49/100\n",
      "1/1 [==============================] - 0s 8ms/step - loss: 2.7028 - mae: 2.7028\n",
      "Epoch 50/100\n",
      "1/1 [==============================] - 0s 8ms/step - loss: 2.5248 - mae: 2.5248\n",
      "Epoch 51/100\n",
      "1/1 [==============================] - 0s 6ms/step - loss: 2.4499 - mae: 2.4499\n",
      "Epoch 52/100\n",
      "1/1 [==============================] - 0s 5ms/step - loss: 2.3695 - mae: 2.3695\n",
      "Epoch 53/100\n",
      "1/1 [==============================] - 0s 7ms/step - loss: 2.1776 - mae: 2.1776\n",
      "Epoch 54/100\n",
      "1/1 [==============================] - 0s 6ms/step - loss: 1.9834 - mae: 1.9834\n",
      "Epoch 55/100\n",
      "1/1 [==============================] - 0s 5ms/step - loss: 1.8220 - mae: 1.8220\n",
      "Epoch 56/100\n",
      "1/1 [==============================] - 0s 5ms/step - loss: 1.7505 - mae: 1.7505\n",
      "Epoch 57/100\n",
      "1/1 [==============================] - 0s 6ms/step - loss: 1.3742 - mae: 1.3742\n",
      "Epoch 58/100\n",
      "1/1 [==============================] - 0s 8ms/step - loss: 1.1149 - mae: 1.1149\n",
      "Epoch 59/100\n",
      "1/1 [==============================] - 0s 6ms/step - loss: 0.9788 - mae: 0.9788\n",
      "Epoch 60/100\n",
      "1/1 [==============================] - 0s 5ms/step - loss: 0.5696 - mae: 0.5696\n",
      "Epoch 61/100\n",
      "1/1 [==============================] - 0s 4ms/step - loss: 0.6251 - mae: 0.6251\n",
      "Epoch 62/100\n",
      "1/1 [==============================] - 0s 7ms/step - loss: 0.6023 - mae: 0.6023\n",
      "Epoch 63/100\n",
      "1/1 [==============================] - 0s 5ms/step - loss: 0.4280 - mae: 0.4280\n",
      "Epoch 64/100\n",
      "1/1 [==============================] - 0s 6ms/step - loss: 0.5777 - mae: 0.5777\n",
      "Epoch 65/100\n",
      "1/1 [==============================] - 0s 4ms/step - loss: 0.6481 - mae: 0.6481\n",
      "Epoch 66/100\n",
      "1/1 [==============================] - 0s 6ms/step - loss: 0.5074 - mae: 0.5074\n",
      "Epoch 67/100\n",
      "1/1 [==============================] - 0s 4ms/step - loss: 0.6197 - mae: 0.6197\n",
      "Epoch 68/100\n",
      "1/1 [==============================] - 0s 5ms/step - loss: 0.5710 - mae: 0.5710\n",
      "Epoch 69/100\n",
      "1/1 [==============================] - 0s 4ms/step - loss: 0.4221 - mae: 0.4221\n",
      "Epoch 70/100\n",
      "1/1 [==============================] - 0s 6ms/step - loss: 0.7604 - mae: 0.7604\n",
      "Epoch 71/100\n",
      "1/1 [==============================] - 0s 6ms/step - loss: 0.5358 - mae: 0.5358\n",
      "Epoch 72/100\n",
      "1/1 [==============================] - 0s 6ms/step - loss: 0.6836 - mae: 0.6836\n",
      "Epoch 73/100\n",
      "1/1 [==============================] - 0s 4ms/step - loss: 0.8381 - mae: 0.8381\n",
      "Epoch 74/100\n",
      "1/1 [==============================] - 0s 5ms/step - loss: 0.3864 - mae: 0.3864\n",
      "Epoch 75/100\n",
      "1/1 [==============================] - 0s 5ms/step - loss: 0.5130 - mae: 0.5130\n",
      "Epoch 76/100\n",
      "1/1 [==============================] - 0s 6ms/step - loss: 0.5238 - mae: 0.5238\n",
      "Epoch 77/100\n",
      "1/1 [==============================] - 0s 6ms/step - loss: 0.2606 - mae: 0.2606\n",
      "Epoch 78/100\n",
      "1/1 [==============================] - 0s 5ms/step - loss: 0.3576 - mae: 0.3576\n",
      "Epoch 79/100\n",
      "1/1 [==============================] - 0s 6ms/step - loss: 0.3094 - mae: 0.3094\n",
      "Epoch 80/100\n",
      "1/1 [==============================] - 0s 6ms/step - loss: 0.2516 - mae: 0.2516\n",
      "Epoch 81/100\n",
      "1/1 [==============================] - 0s 6ms/step - loss: 0.4895 - mae: 0.4895\n",
      "Epoch 82/100\n",
      "1/1 [==============================] - 0s 7ms/step - loss: 0.3254 - mae: 0.3254\n",
      "Epoch 83/100\n",
      "1/1 [==============================] - 0s 5ms/step - loss: 0.6079 - mae: 0.6079\n",
      "Epoch 84/100\n",
      "1/1 [==============================] - 0s 6ms/step - loss: 0.6477 - mae: 0.6477\n",
      "Epoch 85/100\n",
      "1/1 [==============================] - 0s 5ms/step - loss: 0.2071 - mae: 0.2071\n",
      "Epoch 86/100\n",
      "1/1 [==============================] - 0s 6ms/step - loss: 0.1875 - mae: 0.1875\n",
      "Epoch 87/100\n",
      "1/1 [==============================] - 0s 6ms/step - loss: 0.5329 - mae: 0.5329\n",
      "Epoch 88/100\n",
      "1/1 [==============================] - 0s 6ms/step - loss: 0.4661 - mae: 0.4661\n",
      "Epoch 89/100\n"
     ]
    },
    {
     "name": "stdout",
     "output_type": "stream",
     "text": [
      "1/1 [==============================] - 0s 7ms/step - loss: 0.4131 - mae: 0.4131\n",
      "Epoch 90/100\n",
      "1/1 [==============================] - 0s 7ms/step - loss: 0.4488 - mae: 0.4488\n",
      "Epoch 91/100\n",
      "1/1 [==============================] - 0s 6ms/step - loss: 0.3101 - mae: 0.3101\n",
      "Epoch 92/100\n",
      "1/1 [==============================] - 0s 7ms/step - loss: 0.2071 - mae: 0.2071\n",
      "Epoch 93/100\n",
      "1/1 [==============================] - 0s 6ms/step - loss: 0.5222 - mae: 0.5222\n",
      "Epoch 94/100\n",
      "1/1 [==============================] - 0s 6ms/step - loss: 0.4734 - mae: 0.4734\n",
      "Epoch 95/100\n",
      "1/1 [==============================] - 0s 5ms/step - loss: 0.2242 - mae: 0.2242\n",
      "Epoch 96/100\n",
      "1/1 [==============================] - 0s 6ms/step - loss: 0.2946 - mae: 0.2946\n",
      "Epoch 97/100\n",
      "1/1 [==============================] - 0s 5ms/step - loss: 0.6106 - mae: 0.6106\n",
      "Epoch 98/100\n",
      "1/1 [==============================] - 0s 5ms/step - loss: 0.4303 - mae: 0.4303\n",
      "Epoch 99/100\n",
      "1/1 [==============================] - 0s 6ms/step - loss: 0.4521 - mae: 0.4521\n",
      "Epoch 100/100\n",
      "1/1 [==============================] - 0s 6ms/step - loss: 0.4975 - mae: 0.4975\n"
     ]
    },
    {
     "data": {
      "text/plain": [
       "<keras.callbacks.History at 0x1f6ba50e910>"
      ]
     },
     "execution_count": 15,
     "metadata": {},
     "output_type": "execute_result"
    }
   ],
   "source": [
    "#Lets rebuild our model\n",
    "\n",
    "model = tf.keras.Sequential([\n",
    "    tf.keras.layers.Dense(1024, activation=\"relu\"),\n",
    "    tf.keras.layers.Dense(512, activation=\"relu\"),\n",
    "    tf.keras.layers.Dense(256, activation=\"relu\"),\n",
    "    tf.keras.layers.Dense(1),\n",
    "])\n",
    "\n",
    "model.compile(loss=tf.keras.losses.mae,\n",
    "             optimizer=tf.keras.optimizers.Adam(),\n",
    "             metrics=[\"mae\"])\n",
    "\n",
    "model.fit(tf.expand_dims(X, axis=-1),y, epochs=100)"
   ]
  },
  {
   "cell_type": "code",
   "execution_count": 16,
   "id": "7fe05abf",
   "metadata": {},
   "outputs": [
    {
     "name": "stdout",
     "output_type": "stream",
     "text": [
      "1/1 [==============================] - 0s 69ms/step\n"
     ]
    },
    {
     "data": {
      "text/plain": [
       "array([[26.10041 ],\n",
       "       [29.288012],\n",
       "       [32.589027]], dtype=float32)"
      ]
     },
     "execution_count": 16,
     "metadata": {},
     "output_type": "execute_result"
    }
   ],
   "source": [
    "model.predict([17.0, 20.0, 23.0])"
   ]
  },
  {
   "cell_type": "markdown",
   "id": "4ac1411b",
   "metadata": {},
   "source": [
    "## Evaluating a Model\n",
    "\n",
    "In practice, a typical workflow you'll go through when building a neural network is:\n",
    "\n",
    "```\n",
    "Build a model -> fit it -> evaluate it - > tweak a model ->\n",
    "fit it -> evaluate it -> tweak a model -> fit it -> evaluate it...\n",
    "```"
   ]
  },
  {
   "cell_type": "markdown",
   "id": "5ac591fb",
   "metadata": {},
   "source": [
    "When it comes to evualiation....there are 3 words you should memorize:\n",
    "```\n",
    "Visualize, Visualize, Visualize\n",
    "```\n",
    "Is a good idea to visualize:\n",
    "The Data - What data are we working with. What does it look like?\n",
    "The Model itself - What does are model look like\n",
    "The training of a model - how does a model perform while trains\n",
    "The predictions of the model - how do the predictions of a model line up"
   ]
  },
  {
   "cell_type": "code",
   "execution_count": 9,
   "id": "51eb9695",
   "metadata": {},
   "outputs": [
    {
     "data": {
      "text/plain": [
       "<tf.Tensor: shape=(50,), dtype=int32, numpy=\n",
       "array([-100,  -96,  -92,  -88,  -84,  -80,  -76,  -72,  -68,  -64,  -60,\n",
       "        -56,  -52,  -48,  -44,  -40,  -36,  -32,  -28,  -24,  -20,  -16,\n",
       "        -12,   -8,   -4,    0,    4,    8,   12,   16,   20,   24,   28,\n",
       "         32,   36,   40,   44,   48,   52,   56,   60,   64,   68,   72,\n",
       "         76,   80,   84,   88,   92,   96])>"
      ]
     },
     "execution_count": 9,
     "metadata": {},
     "output_type": "execute_result"
    }
   ],
   "source": [
    "#Testing with a new model and prediction\n",
    "\n",
    "X = tf.range(-100, 100, 4)\n",
    "X"
   ]
  },
  {
   "cell_type": "code",
   "execution_count": 10,
   "id": "eb98e2f7",
   "metadata": {},
   "outputs": [
    {
     "data": {
      "text/plain": [
       "<tf.Tensor: shape=(50,), dtype=int32, numpy=\n",
       "array([-90, -86, -82, -78, -74, -70, -66, -62, -58, -54, -50, -46, -42,\n",
       "       -38, -34, -30, -26, -22, -18, -14, -10,  -6,  -2,   2,   6,  10,\n",
       "        14,  18,  22,  26,  30,  34,  38,  42,  46,  50,  54,  58,  62,\n",
       "        66,  70,  74,  78,  82,  86,  90,  94,  98, 102, 106])>"
      ]
     },
     "execution_count": 10,
     "metadata": {},
     "output_type": "execute_result"
    }
   ],
   "source": [
    "# Make labels for the Datasets\n",
    "\n",
    "y = X + 10\n",
    "y"
   ]
  },
  {
   "cell_type": "code",
   "execution_count": 11,
   "id": "15ba5a58",
   "metadata": {},
   "outputs": [
    {
     "data": {
      "text/plain": [
       "<matplotlib.collections.PathCollection at 0x14eb9c56f40>"
      ]
     },
     "execution_count": 11,
     "metadata": {},
     "output_type": "execute_result"
    },
    {
     "data": {
      "image/png": "[encoded data removed]",
      "text/plain": [
       "<Figure size 640x480 with 1 Axes>"
      ]
     },
     "metadata": {},
     "output_type": "display_data"
    }
   ],
   "source": [
    "#Visualize the data\n",
    "import matplotlib.pyplot as plt\n",
    "\n",
    "plt.scatter(X,y)"
   ]
  },
  {
   "cell_type": "markdown",
   "id": "d9f95ffd",
   "metadata": {},
   "source": [
    "### The 3 sets...\n",
    "\n",
    "* **Training set** - Model learns from this data typically 70-80% of the total data you have\n",
    "* **Validation set** - The model gets tuned on this data, which is typically 10-15% of available data\n",
    "* **Test Set** - The Model gets evaluated on this data to test what it learned. This set is typically 10-15% of the total data available."
   ]
  },
  {
   "cell_type": "code",
   "execution_count": 12,
   "id": "f49cf134",
   "metadata": {},
   "outputs": [
    {
     "data": {
      "text/plain": [
       "50"
      ]
     },
     "execution_count": 12,
     "metadata": {},
     "output_type": "execute_result"
    }
   ],
   "source": [
    "# Check the lenght of how many samples we have\n",
    "len(X)"
   ]
  },
  {
   "cell_type": "code",
   "execution_count": 13,
   "id": "c332706c",
   "metadata": {},
   "outputs": [
    {
     "data": {
      "text/plain": [
       "(40, 10, 10, 40)"
      ]
     },
     "execution_count": 13,
     "metadata": {},
     "output_type": "execute_result"
    }
   ],
   "source": [
    "# Split the Data into train and test\n",
    "\n",
    "X_train = X[:40] # frist 40 are training samples (80% of the data)\n",
    "y_train = y[:40]\n",
    "\n",
    "X_test = X[40:] # last 10 are testing samples (20% of the Data)\n",
    "y_test = y[40:]\n",
    "\n",
    "len(X_train), len(X_test), len(y_test), len(y_train)"
   ]
  },
  {
   "cell_type": "markdown",
   "id": "37c9ae6e",
   "metadata": {},
   "source": [
    "### Visualizing the Data\n",
    "\n",
    "Now we got our data split. Let's visualize it again"
   ]
  },
  {
   "cell_type": "code",
   "execution_count": 14,
   "id": "46f6740d",
   "metadata": {},
   "outputs": [
    {
     "data": {
      "image/png": "[encoded data removed]",
      "text/plain": [
       "<Figure size 1000x700 with 1 Axes>"
      ]
     },
     "metadata": {},
     "output_type": "display_data"
    }
   ],
   "source": [
    "plt.figure(figsize=(10,7))\n",
    "#plot taining data in blue\n",
    "plt.scatter(X_train, y_train, c=\"b\", label=\"Training Data\")\n",
    "#plot Test data in green\n",
    "plt.scatter(X_test, y_test, c=\"g\", label=\"Testing Data\")\n",
    "#show a legend\n",
    "plt.legend();"
   ]
  },
  {
   "cell_type": "code",
   "execution_count": 23,
   "id": "fb381646",
   "metadata": {},
   "outputs": [],
   "source": [
    "#Let's have a look at how to build a neural network for our data\n",
    "\n",
    "# 1. Create a model\n",
    "\n",
    "model = tf.keras.Sequential([\n",
    "    tf.keras.layers.Dense(1)\n",
    "])\n",
    "\n",
    "#2. Compile the model\n",
    "\n",
    "model.compile(loss=tf.keras.losses.mae,\n",
    "              optimizer=tf.keras.optimizers.SGD(),\n",
    "              metrics=[\"mae\"])\n",
    "\n",
    "# 3. fit the model\n",
    "#model.fit(X_train, y_train, epochs=100)"
   ]
  },
  {
   "cell_type": "code",
   "execution_count": 24,
   "id": "e31903c1",
   "metadata": {},
   "outputs": [],
   "source": [
    "#Visualizing the Model\n",
    "\n",
    "#model.summary()"
   ]
  },
  {
   "cell_type": "code",
   "execution_count": 25,
   "id": "d86bcf47",
   "metadata": {},
   "outputs": [],
   "source": [
    "# Lets a build a model that builds automatically defining the input_shape\n",
    "\n",
    "tf.random.set_seed(42)\n",
    "\n",
    "model = tf.keras.Sequential([\n",
    "    tf.keras.layers.Dense(1, input_shape = [1])\n",
    "])\n",
    "\n",
    "model.compile(loss=tf.keras.losses.mae,\n",
    "             optimizer=tf.keras.optimizers.SGD(),\n",
    "             metrics=[\"mae\"])"
   ]
  },
  {
   "cell_type": "code",
   "execution_count": 26,
   "id": "03ecbf60",
   "metadata": {},
   "outputs": [
    {
     "name": "stdout",
     "output_type": "stream",
     "text": [
      "Model: \"sequential_4\"\n",
      "_________________________________________________________________\n",
      " Layer (type)                Output Shape              Param #   \n",
      "=================================================================\n",
      " dense_7 (Dense)             (None, 1)                 2         \n",
      "                                                                 \n",
      "=================================================================\n",
      "Total params: 2\n",
      "Trainable params: 2\n",
      "Non-trainable params: 0\n",
      "_________________________________________________________________\n"
     ]
    }
   ],
   "source": [
    "model.summary()"
   ]
  },
  {
   "cell_type": "markdown",
   "id": "b7acb9b9",
   "metadata": {},
   "source": [
    "Total params - total number of parameters in the model\n",
    "Trainable params - these are the parameters, patterns the model can update as it trains\n",
    "Non Trainable params - these parameters arent update during training. This is typical already trained parameters\n",
    "\n",
    "📖 **Resourse:** For more indepth information about trainable parameters within a layer, check out MIT Introduction to Deep Learning Video\n",
    "introtodeeplearning"
   ]
  },
  {
   "cell_type": "code",
   "execution_count": 18,
   "id": "59329630",
   "metadata": {},
   "outputs": [],
   "source": [
    "tf.random.set_seed(42)\n",
    "\n",
    "model = tf.keras.Sequential([\n",
    "    tf.keras.layers.Dense(64, input_shape = [1], name=\"input_layer\"),\n",
    "    tf.keras.layers.Dense(32, activation='relu'),\n",
    "    tf.keras.layers.Dense(1, name=\"output_layer\"),\n",
    "], name=\"Model_1\")\n",
    "\n",
    "model.compile(loss=tf.keras.losses.mae,\n",
    "             optimizer=tf.keras.optimizers.Adam(),\n",
    "             metrics=[\"mae\"])"
   ]
  },
  {
   "cell_type": "code",
   "execution_count": 19,
   "id": "ffed2b1f",
   "metadata": {},
   "outputs": [
    {
     "name": "stdout",
     "output_type": "stream",
     "text": [
      "Model: \"Model_1\"\n",
      "_________________________________________________________________\n",
      " Layer (type)                Output Shape              Param #   \n",
      "=================================================================\n",
      " input_layer (Dense)         (None, 64)                128       \n",
      "                                                                 \n",
      " dense_1 (Dense)             (None, 32)                2080      \n",
      "                                                                 \n",
      " output_layer (Dense)        (None, 1)                 33        \n",
      "                                                                 \n",
      "=================================================================\n",
      "Total params: 2,241\n",
      "Trainable params: 2,241\n",
      "Non-trainable params: 0\n",
      "_________________________________________________________________\n"
     ]
    }
   ],
   "source": [
    "model.summary()"
   ]
  },
  {
   "cell_type": "code",
   "execution_count": 20,
   "id": "fb35fb25",
   "metadata": {},
   "outputs": [
    {
     "name": "stdout",
     "output_type": "stream",
     "text": [
      "Epoch 1/100\n",
      "2/2 [==============================] - 2s 8ms/step - loss: 38.1024 - mae: 38.1024\n",
      "Epoch 2/100\n",
      "2/2 [==============================] - 0s 6ms/step - loss: 34.4813 - mae: 34.4813\n",
      "Epoch 3/100\n",
      "2/2 [==============================] - 0s 6ms/step - loss: 31.2749 - mae: 31.2749\n",
      "Epoch 4/100\n",
      "2/2 [==============================] - 0s 7ms/step - loss: 28.0964 - mae: 28.0964\n",
      "Epoch 5/100\n",
      "2/2 [==============================] - 0s 6ms/step - loss: 25.0557 - mae: 25.0557\n",
      "Epoch 6/100\n",
      "2/2 [==============================] - 0s 7ms/step - loss: 22.0676 - mae: 22.0676\n",
      "Epoch 7/100\n",
      "2/2 [==============================] - 0s 6ms/step - loss: 18.7803 - mae: 18.7803\n",
      "Epoch 8/100\n",
      "2/2 [==============================] - 0s 6ms/step - loss: 15.3848 - mae: 15.3848\n",
      "Epoch 9/100\n",
      "2/2 [==============================] - 0s 7ms/step - loss: 12.6588 - mae: 12.6588\n",
      "Epoch 10/100\n",
      "2/2 [==============================] - 0s 7ms/step - loss: 11.3596 - mae: 11.3596\n",
      "Epoch 11/100\n",
      "2/2 [==============================] - 0s 8ms/step - loss: 12.5849 - mae: 12.5849\n",
      "Epoch 12/100\n",
      "2/2 [==============================] - 0s 7ms/step - loss: 12.2086 - mae: 12.2086\n",
      "Epoch 13/100\n",
      "2/2 [==============================] - 0s 7ms/step - loss: 10.7047 - mae: 10.7047\n",
      "Epoch 14/100\n",
      "2/2 [==============================] - 0s 8ms/step - loss: 8.6213 - mae: 8.6213\n",
      "Epoch 15/100\n",
      "2/2 [==============================] - 0s 6ms/step - loss: 7.5539 - mae: 7.5539\n",
      "Epoch 16/100\n",
      "2/2 [==============================] - 0s 5ms/step - loss: 7.3477 - mae: 7.3477\n",
      "Epoch 17/100\n",
      "2/2 [==============================] - 0s 6ms/step - loss: 6.6996 - mae: 6.6996\n",
      "Epoch 18/100\n",
      "2/2 [==============================] - 0s 6ms/step - loss: 6.0527 - mae: 6.0527\n",
      "Epoch 19/100\n",
      "2/2 [==============================] - 0s 7ms/step - loss: 4.9885 - mae: 4.9885\n",
      "Epoch 20/100\n",
      "2/2 [==============================] - 0s 7ms/step - loss: 4.5293 - mae: 4.5293\n",
      "Epoch 21/100\n",
      "2/2 [==============================] - 0s 6ms/step - loss: 4.4994 - mae: 4.4994\n",
      "Epoch 22/100\n",
      "2/2 [==============================] - 0s 7ms/step - loss: 4.6245 - mae: 4.6245\n",
      "Epoch 23/100\n",
      "2/2 [==============================] - 0s 6ms/step - loss: 5.0041 - mae: 5.0041\n",
      "Epoch 24/100\n",
      "2/2 [==============================] - 0s 6ms/step - loss: 5.1284 - mae: 5.1284\n",
      "Epoch 25/100\n",
      "2/2 [==============================] - 0s 5ms/step - loss: 4.8209 - mae: 4.8209\n",
      "Epoch 26/100\n",
      "2/2 [==============================] - 0s 5ms/step - loss: 4.5438 - mae: 4.5438\n",
      "Epoch 27/100\n",
      "2/2 [==============================] - 0s 5ms/step - loss: 4.3708 - mae: 4.3708\n",
      "Epoch 28/100\n",
      "2/2 [==============================] - 0s 6ms/step - loss: 4.2372 - mae: 4.2372\n",
      "Epoch 29/100\n",
      "2/2 [==============================] - 0s 5ms/step - loss: 4.2013 - mae: 4.2013\n",
      "Epoch 30/100\n",
      "2/2 [==============================] - 0s 5ms/step - loss: 4.1679 - mae: 4.1679\n",
      "Epoch 31/100\n",
      "2/2 [==============================] - 0s 6ms/step - loss: 4.1785 - mae: 4.1785\n",
      "Epoch 32/100\n",
      "2/2 [==============================] - 0s 6ms/step - loss: 4.1607 - mae: 4.1607\n",
      "Epoch 33/100\n",
      "2/2 [==============================] - 0s 5ms/step - loss: 4.1552 - mae: 4.1552\n",
      "Epoch 34/100\n",
      "2/2 [==============================] - 0s 6ms/step - loss: 4.1403 - mae: 4.1403\n",
      "Epoch 35/100\n",
      "2/2 [==============================] - 0s 5ms/step - loss: 4.0355 - mae: 4.0355\n",
      "Epoch 36/100\n",
      "2/2 [==============================] - 0s 5ms/step - loss: 3.9996 - mae: 3.9996\n",
      "Epoch 37/100\n",
      "2/2 [==============================] - 0s 5ms/step - loss: 4.0695 - mae: 4.0695\n",
      "Epoch 38/100\n",
      "2/2 [==============================] - 0s 6ms/step - loss: 4.1347 - mae: 4.1347\n",
      "Epoch 39/100\n",
      "2/2 [==============================] - 0s 6ms/step - loss: 4.1374 - mae: 4.1374\n",
      "Epoch 40/100\n",
      "2/2 [==============================] - 0s 6ms/step - loss: 4.0873 - mae: 4.0873\n",
      "Epoch 41/100\n",
      "2/2 [==============================] - 0s 5ms/step - loss: 4.0105 - mae: 4.0105\n",
      "Epoch 42/100\n",
      "2/2 [==============================] - 0s 5ms/step - loss: 3.9718 - mae: 3.9718\n",
      "Epoch 43/100\n",
      "2/2 [==============================] - 0s 7ms/step - loss: 3.9842 - mae: 3.9842\n",
      "Epoch 44/100\n",
      "2/2 [==============================] - 0s 5ms/step - loss: 4.0085 - mae: 4.0085\n",
      "Epoch 45/100\n",
      "2/2 [==============================] - 0s 7ms/step - loss: 3.9450 - mae: 3.9450\n",
      "Epoch 46/100\n",
      "2/2 [==============================] - 0s 5ms/step - loss: 3.9399 - mae: 3.9399\n",
      "Epoch 47/100\n",
      "2/2 [==============================] - 0s 6ms/step - loss: 3.9763 - mae: 3.9763\n",
      "Epoch 48/100\n",
      "2/2 [==============================] - 0s 5ms/step - loss: 4.0117 - mae: 4.0117\n",
      "Epoch 49/100\n",
      "2/2 [==============================] - 0s 5ms/step - loss: 3.9983 - mae: 3.9983\n",
      "Epoch 50/100\n",
      "2/2 [==============================] - 0s 6ms/step - loss: 3.9752 - mae: 3.9752\n",
      "Epoch 51/100\n",
      "2/2 [==============================] - 0s 5ms/step - loss: 3.9527 - mae: 3.9527\n",
      "Epoch 52/100\n",
      "2/2 [==============================] - 0s 5ms/step - loss: 3.9592 - mae: 3.9592\n",
      "Epoch 53/100\n",
      "2/2 [==============================] - 0s 6ms/step - loss: 3.9019 - mae: 3.9019\n",
      "Epoch 54/100\n",
      "2/2 [==============================] - 0s 5ms/step - loss: 3.8877 - mae: 3.8877\n",
      "Epoch 55/100\n",
      "2/2 [==============================] - 0s 5ms/step - loss: 3.8726 - mae: 3.8726\n",
      "Epoch 56/100\n",
      "2/2 [==============================] - 0s 8ms/step - loss: 3.9183 - mae: 3.9183\n",
      "Epoch 57/100\n",
      "2/2 [==============================] - 0s 5ms/step - loss: 3.9794 - mae: 3.9794\n",
      "Epoch 58/100\n",
      "2/2 [==============================] - 0s 6ms/step - loss: 4.0390 - mae: 4.0390\n",
      "Epoch 59/100\n",
      "2/2 [==============================] - 0s 5ms/step - loss: 3.9609 - mae: 3.9609\n",
      "Epoch 60/100\n",
      "2/2 [==============================] - 0s 5ms/step - loss: 3.9127 - mae: 3.9127\n",
      "Epoch 61/100\n",
      "2/2 [==============================] - 0s 5ms/step - loss: 3.9294 - mae: 3.9294\n",
      "Epoch 62/100\n",
      "2/2 [==============================] - 0s 5ms/step - loss: 3.9716 - mae: 3.9716\n",
      "Epoch 63/100\n",
      "2/2 [==============================] - 0s 7ms/step - loss: 3.9488 - mae: 3.9488\n",
      "Epoch 64/100\n",
      "2/2 [==============================] - 0s 5ms/step - loss: 3.8664 - mae: 3.8664\n",
      "Epoch 65/100\n",
      "2/2 [==============================] - 0s 5ms/step - loss: 3.8197 - mae: 3.8197\n",
      "Epoch 66/100\n",
      "2/2 [==============================] - 0s 5ms/step - loss: 3.9180 - mae: 3.9180\n",
      "Epoch 67/100\n",
      "2/2 [==============================] - 0s 7ms/step - loss: 3.9095 - mae: 3.9095\n",
      "Epoch 68/100\n",
      "2/2 [==============================] - 0s 5ms/step - loss: 3.8241 - mae: 3.8241\n",
      "Epoch 69/100\n",
      "2/2 [==============================] - 0s 5ms/step - loss: 3.8058 - mae: 3.8058\n",
      "Epoch 70/100\n",
      "2/2 [==============================] - 0s 5ms/step - loss: 3.8601 - mae: 3.8601\n",
      "Epoch 71/100\n",
      "2/2 [==============================] - 0s 5ms/step - loss: 3.8693 - mae: 3.8693\n",
      "Epoch 72/100\n",
      "2/2 [==============================] - 0s 5ms/step - loss: 3.8402 - mae: 3.8402\n",
      "Epoch 73/100\n",
      "2/2 [==============================] - 0s 5ms/step - loss: 3.7613 - mae: 3.7613\n",
      "Epoch 74/100\n",
      "2/2 [==============================] - 0s 4ms/step - loss: 3.7379 - mae: 3.7379\n",
      "Epoch 75/100\n",
      "2/2 [==============================] - 0s 5ms/step - loss: 3.8251 - mae: 3.8251\n",
      "Epoch 76/100\n",
      "2/2 [==============================] - 0s 5ms/step - loss: 3.9690 - mae: 3.9690\n",
      "Epoch 77/100\n",
      "2/2 [==============================] - 0s 5ms/step - loss: 3.9493 - mae: 3.9493\n",
      "Epoch 78/100\n",
      "2/2 [==============================] - 0s 6ms/step - loss: 3.7785 - mae: 3.7785\n",
      "Epoch 79/100\n",
      "2/2 [==============================] - 0s 5ms/step - loss: 3.7203 - mae: 3.7203\n",
      "Epoch 80/100\n",
      "2/2 [==============================] - 0s 6ms/step - loss: 3.8240 - mae: 3.8240\n",
      "Epoch 81/100\n",
      "2/2 [==============================] - 0s 4ms/step - loss: 3.8106 - mae: 3.8106\n",
      "Epoch 82/100\n",
      "2/2 [==============================] - 0s 5ms/step - loss: 3.7126 - mae: 3.7126\n",
      "Epoch 83/100\n",
      "2/2 [==============================] - 0s 5ms/step - loss: 3.7015 - mae: 3.7015\n",
      "Epoch 84/100\n",
      "2/2 [==============================] - 0s 5ms/step - loss: 3.8238 - mae: 3.8238\n",
      "Epoch 85/100\n",
      "2/2 [==============================] - 0s 5ms/step - loss: 3.8199 - mae: 3.8199\n",
      "Epoch 86/100\n",
      "2/2 [==============================] - 0s 7ms/step - loss: 3.6749 - mae: 3.6749\n",
      "Epoch 87/100\n",
      "2/2 [==============================] - 0s 6ms/step - loss: 3.6199 - mae: 3.6199\n",
      "Epoch 88/100\n"
     ]
    },
    {
     "name": "stdout",
     "output_type": "stream",
     "text": [
      "2/2 [==============================] - 0s 6ms/step - loss: 4.2338 - mae: 4.2338\n",
      "Epoch 89/100\n",
      "2/2 [==============================] - 0s 6ms/step - loss: 4.3173 - mae: 4.3173\n",
      "Epoch 90/100\n",
      "2/2 [==============================] - 0s 6ms/step - loss: 3.7343 - mae: 3.7343\n",
      "Epoch 91/100\n",
      "2/2 [==============================] - 0s 5ms/step - loss: 3.7245 - mae: 3.7245\n",
      "Epoch 92/100\n",
      "2/2 [==============================] - 0s 6ms/step - loss: 4.0442 - mae: 4.0442\n",
      "Epoch 93/100\n",
      "2/2 [==============================] - 0s 6ms/step - loss: 4.1433 - mae: 4.1433\n",
      "Epoch 94/100\n",
      "2/2 [==============================] - 0s 4ms/step - loss: 4.0028 - mae: 4.0028\n",
      "Epoch 95/100\n",
      "2/2 [==============================] - 0s 6ms/step - loss: 3.8022 - mae: 3.8022\n",
      "Epoch 96/100\n",
      "2/2 [==============================] - 0s 4ms/step - loss: 3.5953 - mae: 3.5953\n",
      "Epoch 97/100\n",
      "2/2 [==============================] - 0s 6ms/step - loss: 3.7213 - mae: 3.7213\n",
      "Epoch 98/100\n",
      "2/2 [==============================] - 0s 5ms/step - loss: 3.7742 - mae: 3.7742\n",
      "Epoch 99/100\n",
      "2/2 [==============================] - 0s 6ms/step - loss: 3.6036 - mae: 3.6036\n",
      "Epoch 100/100\n",
      "2/2 [==============================] - 0s 5ms/step - loss: 3.6047 - mae: 3.6047\n"
     ]
    },
    {
     "data": {
      "text/plain": [
       "<keras.callbacks.History at 0x14eba430a30>"
      ]
     },
     "execution_count": 20,
     "metadata": {},
     "output_type": "execute_result"
    }
   ],
   "source": [
    "model.fit(X_train, y_train, epochs=100, verbose=1)"
   ]
  },
  {
   "cell_type": "code",
   "execution_count": 21,
   "id": "336884a4",
   "metadata": {},
   "outputs": [
    {
     "name": "stdout",
     "output_type": "stream",
     "text": [
      "Model: \"Model_1\"\n",
      "_________________________________________________________________\n",
      " Layer (type)                Output Shape              Param #   \n",
      "=================================================================\n",
      " input_layer (Dense)         (None, 64)                128       \n",
      "                                                                 \n",
      " dense_1 (Dense)             (None, 32)                2080      \n",
      "                                                                 \n",
      " output_layer (Dense)        (None, 1)                 33        \n",
      "                                                                 \n",
      "=================================================================\n",
      "Total params: 2,241\n",
      "Trainable params: 2,241\n",
      "Non-trainable params: 0\n",
      "_________________________________________________________________\n"
     ]
    }
   ],
   "source": [
    "# Get a summary of a model\n",
    "\n",
    "model.summary()"
   ]
  },
  {
   "cell_type": "code",
   "execution_count": 64,
   "id": "f246b864",
   "metadata": {},
   "outputs": [
    {
     "name": "stdout",
     "output_type": "stream",
     "text": [
      "You must install pydot (`pip install pydot`) and install graphviz (see instructions at https://graphviz.gitlab.io/download/) for plot_model to work.\n"
     ]
    }
   ],
   "source": [
    "from tensorflow.keras.utils import plot_model\n",
    "\n",
    "plot_model(model=model, show_shapes=True)"
   ]
  },
  {
   "cell_type": "markdown",
   "id": "a5d816ea",
   "metadata": {},
   "source": [
    "### To visualize predictions\n",
    "\n",
    "To visualize predictions it's a good idea to plot them agains the ground of truth"
   ]
  },
  {
   "cell_type": "code",
   "execution_count": 26,
   "id": "6f748842",
   "metadata": {},
   "outputs": [
    {
     "name": "stdout",
     "output_type": "stream",
     "text": [
      "1/1 [==============================] - 0s 77ms/step\n"
     ]
    },
    {
     "data": {
      "text/plain": [
       "array([[ 73.62869 ],\n",
       "       [ 78.42958 ],\n",
       "       [ 83.230484],\n",
       "       [ 88.03139 ],\n",
       "       [ 92.832275],\n",
       "       [ 97.63319 ],\n",
       "       [102.43408 ],\n",
       "       [107.234985],\n",
       "       [112.03587 ],\n",
       "       [116.83678 ]], dtype=float32)"
      ]
     },
     "execution_count": 26,
     "metadata": {},
     "output_type": "execute_result"
    }
   ],
   "source": [
    "# Make some predictions\n",
    "\n",
    "y_pred = model.predict(X_test)\n",
    "y_pred"
   ]
  },
  {
   "cell_type": "code",
   "execution_count": 27,
   "id": "13f8acc4",
   "metadata": {},
   "outputs": [
    {
     "data": {
      "text/plain": [
       "<tf.Tensor: shape=(10,), dtype=int32, numpy=array([ 70,  74,  78,  82,  86,  90,  94,  98, 102, 106])>"
      ]
     },
     "execution_count": 27,
     "metadata": {},
     "output_type": "execute_result"
    }
   ],
   "source": [
    "y_test"
   ]
  },
  {
   "cell_type": "code",
   "execution_count": 31,
   "id": "bc2e3da6",
   "metadata": {},
   "outputs": [],
   "source": [
    "# Lets create a plotting function\n",
    "\n",
    "def plot_prediction(train_data = X_train,\n",
    "                   train_labels=y_train,\n",
    "                   test_data=X_test,\n",
    "                    test_labels=y_test,\n",
    "                   predictions=y_pred):\n",
    "    plt.figure(figsize=(10,7))\n",
    "    plt.scatter(train_data, train_labels, c='b', label='Training Data')\n",
    "    plt.scatter(test_data, test_labels, c='g', label=\"Testing Data\")\n",
    "    plt.scatter(test_data, predictions, c='r', label=\"Predictions\")\n",
    "    plt.legend();"
   ]
  },
  {
   "cell_type": "code",
   "execution_count": 29,
   "id": "d4aaa110",
   "metadata": {},
   "outputs": [
    {
     "data": {
      "image/png": "[encoded data removed]",
      "text/plain": [
       "<Figure size 1000x700 with 1 Axes>"
      ]
     },
     "metadata": {},
     "output_type": "display_data"
    }
   ],
   "source": [
    "plot_prediction()"
   ]
  },
  {
   "cell_type": "markdown",
   "id": "08f40368",
   "metadata": {},
   "source": [
    "### Evaluating our model with an evaluation metrics\n",
    "\n",
    "Depending on the problem you are working on, there will be different evaluation metrics to evaluate your model performance\n",
    "\n",
    "Since we are working with regression two of the main metrics:\n",
    "\n",
    "* MAE - Mean Absolute Error, \"On Average how wrong is each of my model's prediction\n",
    "\n",
    "* MSE - Mean Squared Error, \"Square the Average errors\""
   ]
  },
  {
   "cell_type": "code",
   "execution_count": 69,
   "id": "64981e4d",
   "metadata": {},
   "outputs": [
    {
     "name": "stdout",
     "output_type": "stream",
     "text": [
      "1/1 [==============================] - 0s 347ms/step - loss: 6.6662 - mae: 6.6662\n"
     ]
    },
    {
     "data": {
      "text/plain": [
       "[6.6661696434021, 6.6661696434021]"
      ]
     },
     "execution_count": 69,
     "metadata": {},
     "output_type": "execute_result"
    }
   ],
   "source": [
    "# Evaluate the model on the test set\n",
    "\n",
    "model.evaluate(X_test, y_test)"
   ]
  },
  {
   "cell_type": "code",
   "execution_count": 70,
   "id": "5e89f9ba",
   "metadata": {},
   "outputs": [
    {
     "data": {
      "text/plain": [
       "array([[ 73.1731  ],\n",
       "       [ 77.94934 ],\n",
       "       [ 82.72558 ],\n",
       "       [ 87.501816],\n",
       "       [ 92.278046],\n",
       "       [ 97.05429 ],\n",
       "       [101.83052 ],\n",
       "       [106.606766],\n",
       "       [111.382996],\n",
       "       [116.15924 ]], dtype=float32)"
      ]
     },
     "execution_count": 70,
     "metadata": {},
     "output_type": "execute_result"
    }
   ],
   "source": [
    "y_pred"
   ]
  },
  {
   "cell_type": "code",
   "execution_count": 71,
   "id": "bfae3c57",
   "metadata": {},
   "outputs": [
    {
     "data": {
      "text/plain": [
       "<tf.Tensor: shape=(10,), dtype=int32, numpy=array([ 70,  74,  78,  82,  86,  90,  94,  98, 102, 106])>"
      ]
     },
     "execution_count": 71,
     "metadata": {},
     "output_type": "execute_result"
    }
   ],
   "source": [
    "y_test"
   ]
  },
  {
   "cell_type": "code",
   "execution_count": 72,
   "id": "7359b5a4",
   "metadata": {},
   "outputs": [
    {
     "data": {
      "text/plain": [
       "<tf.Tensor: shape=(10,), dtype=float32, numpy=\n",
       "array([15.461517, 12.430395, 10.654884, 10.      , 10.455609, 12.021716,\n",
       "       14.698313, 18.606766, 23.382996, 28.15924 ], dtype=float32)>"
      ]
     },
     "execution_count": 72,
     "metadata": {},
     "output_type": "execute_result"
    }
   ],
   "source": [
    "#Calculate the mean absolute error\n",
    "\n",
    "mae = tf.metrics.mean_absolute_error(y_test, y_pred)\n",
    "mae"
   ]
  },
  {
   "cell_type": "code",
   "execution_count": 73,
   "id": "6b5f6ec9",
   "metadata": {},
   "outputs": [
    {
     "data": {
      "text/plain": [
       "<tf.Tensor: shape=(10, 10), dtype=int32, numpy=\n",
       "array([[ -3,   1,   5,   9,  13,  17,  21,  25,  29,  33],\n",
       "       [ -7,  -3,   1,   5,   9,  13,  17,  21,  25,  29],\n",
       "       [-12,  -8,  -4,   0,   4,   8,  12,  16,  20,  24],\n",
       "       [-17, -13,  -9,  -5,  -1,   3,   7,  11,  15,  19],\n",
       "       [-22, -18, -14, -10,  -6,  -2,   2,   6,  10,  14],\n",
       "       [-27, -23, -19, -15, -11,  -7,  -3,   1,   5,   9],\n",
       "       [-31, -27, -23, -19, -15, -11,  -7,  -3,   1,   5],\n",
       "       [-36, -32, -28, -24, -20, -16, -12,  -8,  -4,   0],\n",
       "       [-41, -37, -33, -29, -25, -21, -17, -13,  -9,  -5],\n",
       "       [-46, -42, -38, -34, -30, -26, -22, -18, -14, -10]])>"
      ]
     },
     "execution_count": 73,
     "metadata": {},
     "output_type": "execute_result"
    }
   ],
   "source": [
    "y_test - y_pred"
   ]
  },
  {
   "cell_type": "markdown",
   "id": "f32f671d",
   "metadata": {},
   "source": [
    "### Running experiments to improve our model\n",
    "\n",
    "To improve your model\n",
    "1. Get more Data\n",
    "2. Make your model more larger or complex\n",
    "3. Train for longer - more iterations"
   ]
  },
  {
   "cell_type": "markdown",
   "id": "be08397e",
   "metadata": {},
   "source": [
    "### Build `model_1`"
   ]
  },
  {
   "cell_type": "code",
   "execution_count": 15,
   "id": "b342466f",
   "metadata": {},
   "outputs": [
    {
     "data": {
      "text/plain": [
       "<tf.Tensor: shape=(40,), dtype=int32, numpy=\n",
       "array([-100,  -96,  -92,  -88,  -84,  -80,  -76,  -72,  -68,  -64,  -60,\n",
       "        -56,  -52,  -48,  -44,  -40,  -36,  -32,  -28,  -24,  -20,  -16,\n",
       "        -12,   -8,   -4,    0,    4,    8,   12,   16,   20,   24,   28,\n",
       "         32,   36,   40,   44,   48,   52,   56])>"
      ]
     },
     "execution_count": 15,
     "metadata": {},
     "output_type": "execute_result"
    }
   ],
   "source": [
    "X_train"
   ]
  },
  {
   "cell_type": "code",
   "execution_count": 16,
   "id": "112bbc61",
   "metadata": {},
   "outputs": [
    {
     "data": {
      "text/plain": [
       "<tf.Tensor: shape=(40,), dtype=int32, numpy=\n",
       "array([-90, -86, -82, -78, -74, -70, -66, -62, -58, -54, -50, -46, -42,\n",
       "       -38, -34, -30, -26, -22, -18, -14, -10,  -6,  -2,   2,   6,  10,\n",
       "        14,  18,  22,  26,  30,  34,  38,  42,  46,  50,  54,  58,  62,\n",
       "        66])>"
      ]
     },
     "execution_count": 16,
     "metadata": {},
     "output_type": "execute_result"
    }
   ],
   "source": [
    "y_train"
   ]
  },
  {
   "cell_type": "code",
   "execution_count": 23,
   "id": "f971d64b",
   "metadata": {},
   "outputs": [
    {
     "name": "stdout",
     "output_type": "stream",
     "text": [
      "Epoch 1/100\n",
      "2/2 [==============================] - 0s 5ms/step - loss: 31.7166 - mae: 31.7166\n",
      "Epoch 2/100\n",
      "2/2 [==============================] - 0s 5ms/step - loss: 8.9053 - mae: 8.9053\n",
      "Epoch 3/100\n",
      "2/2 [==============================] - 0s 8ms/step - loss: 9.7724 - mae: 9.7724\n",
      "Epoch 4/100\n",
      "2/2 [==============================] - 0s 5ms/step - loss: 11.9482 - mae: 11.9482\n",
      "Epoch 5/100\n",
      "2/2 [==============================] - 0s 8ms/step - loss: 11.0125 - mae: 11.0125\n",
      "Epoch 6/100\n",
      "2/2 [==============================] - 0s 7ms/step - loss: 10.1728 - mae: 10.1728\n",
      "Epoch 7/100\n",
      "2/2 [==============================] - 0s 6ms/step - loss: 9.1904 - mae: 9.1904\n",
      "Epoch 8/100\n",
      "2/2 [==============================] - 0s 5ms/step - loss: 9.1270 - mae: 9.1270\n",
      "Epoch 9/100\n",
      "2/2 [==============================] - 0s 9ms/step - loss: 11.7363 - mae: 11.7363\n",
      "Epoch 10/100\n",
      "2/2 [==============================] - 0s 6ms/step - loss: 13.6544 - mae: 13.6544\n",
      "Epoch 11/100\n",
      "2/2 [==============================] - 0s 7ms/step - loss: 11.7192 - mae: 11.7192\n",
      "Epoch 12/100\n",
      "2/2 [==============================] - 0s 6ms/step - loss: 16.4588 - mae: 16.4588\n",
      "Epoch 13/100\n",
      "2/2 [==============================] - 0s 5ms/step - loss: 11.9775 - mae: 11.9775\n",
      "Epoch 14/100\n",
      "2/2 [==============================] - 0s 7ms/step - loss: 13.9210 - mae: 13.9210\n",
      "Epoch 15/100\n",
      "2/2 [==============================] - 0s 7ms/step - loss: 11.3106 - mae: 11.3106\n",
      "Epoch 16/100\n",
      "2/2 [==============================] - 0s 6ms/step - loss: 8.5611 - mae: 8.5611\n",
      "Epoch 17/100\n",
      "2/2 [==============================] - 0s 6ms/step - loss: 13.6916 - mae: 13.6916\n",
      "Epoch 18/100\n",
      "2/2 [==============================] - 0s 5ms/step - loss: 11.5355 - mae: 11.5355\n",
      "Epoch 19/100\n",
      "2/2 [==============================] - 0s 6ms/step - loss: 17.8157 - mae: 17.8157\n",
      "Epoch 20/100\n",
      "2/2 [==============================] - 0s 6ms/step - loss: 14.9510 - mae: 14.9510\n",
      "Epoch 21/100\n",
      "2/2 [==============================] - 0s 5ms/step - loss: 10.8326 - mae: 10.8326\n",
      "Epoch 22/100\n",
      "2/2 [==============================] - 0s 6ms/step - loss: 8.5824 - mae: 8.5824\n",
      "Epoch 23/100\n",
      "2/2 [==============================] - 0s 5ms/step - loss: 9.7091 - mae: 9.7091\n",
      "Epoch 24/100\n",
      "2/2 [==============================] - 0s 5ms/step - loss: 10.9450 - mae: 10.9450\n",
      "Epoch 25/100\n",
      "2/2 [==============================] - 0s 4ms/step - loss: 9.1510 - mae: 9.1510\n",
      "Epoch 26/100\n",
      "2/2 [==============================] - 0s 5ms/step - loss: 13.1828 - mae: 13.1828\n",
      "Epoch 27/100\n",
      "2/2 [==============================] - 0s 5ms/step - loss: 10.6548 - mae: 10.6548\n",
      "Epoch 28/100\n",
      "2/2 [==============================] - 0s 10ms/step - loss: 12.8735 - mae: 12.8735\n",
      "Epoch 29/100\n",
      "2/2 [==============================] - 0s 7ms/step - loss: 9.5013 - mae: 9.5013\n",
      "Epoch 30/100\n",
      "2/2 [==============================] - 0s 8ms/step - loss: 16.3963 - mae: 16.3963\n",
      "Epoch 31/100\n",
      "2/2 [==============================] - 0s 7ms/step - loss: 23.5868 - mae: 23.5868\n",
      "Epoch 32/100\n",
      "2/2 [==============================] - 0s 6ms/step - loss: 7.6035 - mae: 7.6035\n",
      "Epoch 33/100\n",
      "2/2 [==============================] - 0s 6ms/step - loss: 9.3014 - mae: 9.3014\n",
      "Epoch 34/100\n",
      "2/2 [==============================] - 0s 5ms/step - loss: 13.6831 - mae: 13.6831\n",
      "Epoch 35/100\n",
      "2/2 [==============================] - 0s 6ms/step - loss: 11.1430 - mae: 11.1430\n",
      "Epoch 36/100\n",
      "2/2 [==============================] - 0s 5ms/step - loss: 13.3629 - mae: 13.3629\n",
      "Epoch 37/100\n",
      "2/2 [==============================] - 0s 6ms/step - loss: 9.4491 - mae: 9.4491\n",
      "Epoch 38/100\n",
      "2/2 [==============================] - 0s 6ms/step - loss: 10.1025 - mae: 10.1025\n",
      "Epoch 39/100\n",
      "2/2 [==============================] - 0s 5ms/step - loss: 10.1949 - mae: 10.1949\n",
      "Epoch 40/100\n",
      "2/2 [==============================] - 0s 6ms/step - loss: 10.9390 - mae: 10.9390\n",
      "Epoch 41/100\n",
      "2/2 [==============================] - 0s 4ms/step - loss: 7.9143 - mae: 7.9143\n",
      "Epoch 42/100\n",
      "2/2 [==============================] - 0s 5ms/step - loss: 10.5805 - mae: 10.5805\n",
      "Epoch 43/100\n",
      "2/2 [==============================] - 0s 5ms/step - loss: 7.2022 - mae: 7.2022\n",
      "Epoch 44/100\n",
      "2/2 [==============================] - 0s 5ms/step - loss: 7.9926 - mae: 7.9926\n",
      "Epoch 45/100\n",
      "2/2 [==============================] - 0s 5ms/step - loss: 9.7866 - mae: 9.7866\n",
      "Epoch 46/100\n",
      "2/2 [==============================] - 0s 5ms/step - loss: 8.8635 - mae: 8.8635\n",
      "Epoch 47/100\n",
      "2/2 [==============================] - 0s 7ms/step - loss: 7.5637 - mae: 7.5637\n",
      "Epoch 48/100\n",
      "2/2 [==============================] - 0s 5ms/step - loss: 8.5608 - mae: 8.5608\n",
      "Epoch 49/100\n",
      "2/2 [==============================] - 0s 5ms/step - loss: 9.9926 - mae: 9.9926\n",
      "Epoch 50/100\n",
      "2/2 [==============================] - 0s 3ms/step - loss: 9.0121 - mae: 9.0121\n",
      "Epoch 51/100\n",
      "2/2 [==============================] - 0s 6ms/step - loss: 10.6631 - mae: 10.6631\n",
      "Epoch 52/100\n",
      "2/2 [==============================] - 0s 4ms/step - loss: 15.2859 - mae: 15.2859\n",
      "Epoch 53/100\n",
      "2/2 [==============================] - 0s 7ms/step - loss: 14.3086 - mae: 14.3086\n",
      "Epoch 54/100\n",
      "2/2 [==============================] - 0s 4ms/step - loss: 21.6011 - mae: 21.6011\n",
      "Epoch 55/100\n",
      "2/2 [==============================] - 0s 4ms/step - loss: 15.9929 - mae: 15.9929\n",
      "Epoch 56/100\n",
      "2/2 [==============================] - 0s 5ms/step - loss: 10.2776 - mae: 10.2776\n",
      "Epoch 57/100\n",
      "2/2 [==============================] - 0s 5ms/step - loss: 9.7619 - mae: 9.7619\n",
      "Epoch 58/100\n",
      "2/2 [==============================] - 0s 4ms/step - loss: 9.0471 - mae: 9.0471\n",
      "Epoch 59/100\n",
      "2/2 [==============================] - 0s 5ms/step - loss: 8.2528 - mae: 8.2528\n",
      "Epoch 60/100\n",
      "2/2 [==============================] - 0s 4ms/step - loss: 9.3484 - mae: 9.3484\n",
      "Epoch 61/100\n",
      "2/2 [==============================] - 0s 5ms/step - loss: 11.1592 - mae: 11.1592\n",
      "Epoch 62/100\n",
      "2/2 [==============================] - 0s 5ms/step - loss: 12.0660 - mae: 12.0660\n",
      "Epoch 63/100\n",
      "2/2 [==============================] - 0s 5ms/step - loss: 7.2615 - mae: 7.2615\n",
      "Epoch 64/100\n",
      "2/2 [==============================] - 0s 6ms/step - loss: 12.4275 - mae: 12.4275\n",
      "Epoch 65/100\n",
      "2/2 [==============================] - 0s 4ms/step - loss: 10.4951 - mae: 10.4951\n",
      "Epoch 66/100\n",
      "2/2 [==============================] - 0s 6ms/step - loss: 15.5993 - mae: 15.5993\n",
      "Epoch 67/100\n",
      "2/2 [==============================] - 0s 5ms/step - loss: 10.0008 - mae: 10.0008\n",
      "Epoch 68/100\n",
      "2/2 [==============================] - 0s 5ms/step - loss: 8.7120 - mae: 8.7120\n",
      "Epoch 69/100\n",
      "2/2 [==============================] - 0s 5ms/step - loss: 13.4754 - mae: 13.4754\n",
      "Epoch 70/100\n",
      "2/2 [==============================] - 0s 5ms/step - loss: 7.4598 - mae: 7.4598\n",
      "Epoch 71/100\n",
      "2/2 [==============================] - 0s 6ms/step - loss: 12.2220 - mae: 12.2220\n",
      "Epoch 72/100\n",
      "2/2 [==============================] - 0s 4ms/step - loss: 8.5218 - mae: 8.5218\n",
      "Epoch 73/100\n",
      "2/2 [==============================] - 0s 6ms/step - loss: 7.0301 - mae: 7.0301\n",
      "Epoch 74/100\n",
      "2/2 [==============================] - 0s 5ms/step - loss: 9.9180 - mae: 9.9180\n",
      "Epoch 75/100\n",
      "2/2 [==============================] - 0s 5ms/step - loss: 9.9311 - mae: 9.9311\n",
      "Epoch 76/100\n",
      "2/2 [==============================] - 0s 4ms/step - loss: 10.0969 - mae: 10.0969\n",
      "Epoch 77/100\n",
      "2/2 [==============================] - 0s 4ms/step - loss: 12.9502 - mae: 12.9502\n",
      "Epoch 78/100\n",
      "2/2 [==============================] - 0s 5ms/step - loss: 11.1385 - mae: 11.1385\n",
      "Epoch 79/100\n",
      "2/2 [==============================] - 0s 5ms/step - loss: 14.6897 - mae: 14.6897\n",
      "Epoch 80/100\n",
      "2/2 [==============================] - 0s 5ms/step - loss: 8.9190 - mae: 8.9190\n",
      "Epoch 81/100\n",
      "2/2 [==============================] - 0s 4ms/step - loss: 10.7636 - mae: 10.7636\n",
      "Epoch 82/100\n",
      "2/2 [==============================] - 0s 6ms/step - loss: 8.3768 - mae: 8.3768\n",
      "Epoch 83/100\n",
      "2/2 [==============================] - 0s 6ms/step - loss: 9.2194 - mae: 9.2194\n",
      "Epoch 84/100\n",
      "2/2 [==============================] - 0s 5ms/step - loss: 8.9349 - mae: 8.9349\n",
      "Epoch 85/100\n",
      "2/2 [==============================] - 0s 4ms/step - loss: 13.2006 - mae: 13.2006\n",
      "Epoch 86/100\n",
      "2/2 [==============================] - 0s 5ms/step - loss: 13.6943 - mae: 13.6943\n",
      "Epoch 87/100\n",
      "2/2 [==============================] - 0s 5ms/step - loss: 13.1783 - mae: 13.1783\n",
      "Epoch 88/100\n"
     ]
    },
    {
     "name": "stdout",
     "output_type": "stream",
     "text": [
      "2/2 [==============================] - 0s 4ms/step - loss: 11.5031 - mae: 11.5031\n",
      "Epoch 89/100\n",
      "2/2 [==============================] - 0s 4ms/step - loss: 7.7937 - mae: 7.7937\n",
      "Epoch 90/100\n",
      "2/2 [==============================] - 0s 4ms/step - loss: 10.9172 - mae: 10.9172\n",
      "Epoch 91/100\n",
      "2/2 [==============================] - 0s 5ms/step - loss: 6.7407 - mae: 6.7407\n",
      "Epoch 92/100\n",
      "2/2 [==============================] - 0s 5ms/step - loss: 10.1096 - mae: 10.1096\n",
      "Epoch 93/100\n",
      "2/2 [==============================] - 0s 5ms/step - loss: 7.6014 - mae: 7.6014\n",
      "Epoch 94/100\n",
      "2/2 [==============================] - 0s 5ms/step - loss: 9.2336 - mae: 9.2336\n",
      "Epoch 95/100\n",
      "2/2 [==============================] - 0s 6ms/step - loss: 10.8251 - mae: 10.8251\n",
      "Epoch 96/100\n",
      "2/2 [==============================] - 0s 4ms/step - loss: 10.2834 - mae: 10.2834\n",
      "Epoch 97/100\n",
      "2/2 [==============================] - 0s 5ms/step - loss: 7.6741 - mae: 7.6741\n",
      "Epoch 98/100\n",
      "2/2 [==============================] - 0s 4ms/step - loss: 8.6087 - mae: 8.6087\n",
      "Epoch 99/100\n",
      "2/2 [==============================] - 0s 5ms/step - loss: 9.3873 - mae: 9.3873\n",
      "Epoch 100/100\n",
      "2/2 [==============================] - 0s 4ms/step - loss: 8.8324 - mae: 8.8324\n"
     ]
    },
    {
     "data": {
      "text/plain": [
       "<keras.callbacks.History at 0x14eba14c8b0>"
      ]
     },
     "execution_count": 23,
     "metadata": {},
     "output_type": "execute_result"
    }
   ],
   "source": [
    "#Set random seed\n",
    "tf.random.set_seed(42)\n",
    "\n",
    "model_1 = tf.keras.Sequential([\n",
    "    tf.keras.layers.Dense(1, input_shape = [1], name=\"input_layer\")\n",
    "])\n",
    "\n",
    "model_1.compile(loss=tf.keras.losses.mae,\n",
    "               optimizer=tf.keras.optimizers.SGD(),\n",
    "               metrics=[\"mae\"])\n",
    "\n",
    "model_1.fit(X_train, y_train, epochs=100)"
   ]
  },
  {
   "cell_type": "code",
   "execution_count": 24,
   "id": "60a47865",
   "metadata": {},
   "outputs": [
    {
     "name": "stdout",
     "output_type": "stream",
     "text": [
      "Model: \"sequential_2\"\n",
      "_________________________________________________________________\n",
      " Layer (type)                Output Shape              Param #   \n",
      "=================================================================\n",
      " input_layer (Dense)         (None, 1)                 2         \n",
      "                                                                 \n",
      "=================================================================\n",
      "Total params: 2\n",
      "Trainable params: 2\n",
      "Non-trainable params: 0\n",
      "_________________________________________________________________\n"
     ]
    }
   ],
   "source": [
    "model_1.summary()"
   ]
  },
  {
   "cell_type": "code",
   "execution_count": 32,
   "id": "84bd47e0",
   "metadata": {},
   "outputs": [
    {
     "name": "stdout",
     "output_type": "stream",
     "text": [
      "1/1 [==============================] - 0s 19ms/step\n"
     ]
    },
    {
     "data": {
      "image/png": "[encoded data removed]",
      "text/plain": [
       "<Figure size 1000x700 with 1 Axes>"
      ]
     },
     "metadata": {},
     "output_type": "display_data"
    }
   ],
   "source": [
    "# Make and plot for model_1\n",
    "\n",
    "y_pred_1 = model_1.predict(X_test)\n",
    "plot_prediction(predictions=y_pred_1)"
   ]
  },
  {
   "cell_type": "code",
   "execution_count": 34,
   "id": "3e81573e",
   "metadata": {},
   "outputs": [],
   "source": [
    "#Make some function to calculate mae and mse to be reutilize later\n",
    "\n",
    "def mae(y_true, y_pred):\n",
    "    return tf.metrics.mean_absolute_error(y_true= y_true,\n",
    "                                         y_pred=tf.squeeze(y_pred))\n",
    "\n",
    "def mse(y_true, y_pred):\n",
    "    return tf.metrics.mean_squared_error(y_true=y_true,\n",
    "                                        y_pred=tf.squeeze(y_pred))"
   ]
  },
  {
   "cell_type": "code",
   "execution_count": 37,
   "id": "5a34a321",
   "metadata": {},
   "outputs": [
    {
     "data": {
      "text/plain": [
       "(<tf.Tensor: shape=(), dtype=float32, numpy=8.666227>,\n",
       " <tf.Tensor: shape=(), dtype=float32, numpy=81.63689>)"
      ]
     },
     "execution_count": 37,
     "metadata": {},
     "output_type": "execute_result"
    }
   ],
   "source": [
    "mae_1 = mae(y_test, y_pred_1)\n",
    "mse_1 = mse(y_test, y_pred_1)\n",
    "mae_1, mse_1"
   ]
  },
  {
   "cell_type": "code",
   "execution_count": 40,
   "id": "de891e6f",
   "metadata": {},
   "outputs": [
    {
     "name": "stdout",
     "output_type": "stream",
     "text": [
      "Epoch 1/100\n",
      "2/2 [==============================] - 0s 6ms/step - loss: 47.9949 - mse: 3405.3848\n",
      "Epoch 2/100\n",
      "2/2 [==============================] - 0s 5ms/step - loss: 31.2165 - mse: 1304.2419\n",
      "Epoch 3/100\n",
      "2/2 [==============================] - 0s 6ms/step - loss: 36.2073 - mse: 1973.0566\n",
      "Epoch 4/100\n",
      "2/2 [==============================] - 0s 5ms/step - loss: 27.6350 - mse: 1116.7339\n",
      "Epoch 5/100\n",
      "2/2 [==============================] - 0s 5ms/step - loss: 15.0644 - mse: 286.0727\n",
      "Epoch 6/100\n",
      "2/2 [==============================] - 0s 5ms/step - loss: 11.9828 - mse: 173.0415\n",
      "Epoch 7/100\n",
      "2/2 [==============================] - 0s 7ms/step - loss: 11.3128 - mse: 155.2308\n",
      "Epoch 8/100\n",
      "2/2 [==============================] - 0s 5ms/step - loss: 11.1611 - mse: 166.4583\n",
      "Epoch 9/100\n",
      "2/2 [==============================] - 0s 5ms/step - loss: 41.2179 - mse: 2694.8364\n",
      "Epoch 10/100\n",
      "2/2 [==============================] - 0s 7ms/step - loss: 28.5170 - mse: 1147.7512\n",
      "Epoch 11/100\n",
      "2/2 [==============================] - 0s 5ms/step - loss: 9.3947 - mse: 118.3282\n",
      "Epoch 12/100\n",
      "2/2 [==============================] - 0s 4ms/step - loss: 26.3281 - mse: 958.8872\n",
      "Epoch 13/100\n",
      "2/2 [==============================] - 0s 5ms/step - loss: 14.4437 - mse: 278.7823\n",
      "Epoch 14/100\n",
      "2/2 [==============================] - 0s 4ms/step - loss: 29.8446 - mse: 1422.4298\n",
      "Epoch 15/100\n",
      "2/2 [==============================] - 0s 6ms/step - loss: 19.7050 - mse: 543.2274\n",
      "Epoch 16/100\n",
      "2/2 [==============================] - 0s 5ms/step - loss: 9.8368 - mse: 126.4146\n",
      "Epoch 17/100\n",
      "2/2 [==============================] - 0s 6ms/step - loss: 17.6417 - mse: 410.6685\n",
      "Epoch 18/100\n",
      "2/2 [==============================] - 0s 4ms/step - loss: 14.1174 - mse: 314.0124\n",
      "Epoch 19/100\n",
      "2/2 [==============================] - 0s 5ms/step - loss: 13.9568 - mse: 303.4612\n",
      "Epoch 20/100\n",
      "2/2 [==============================] - 0s 4ms/step - loss: 11.2085 - mse: 146.4401\n",
      "Epoch 21/100\n",
      "2/2 [==============================] - 0s 4ms/step - loss: 17.2778 - mse: 422.7348\n",
      "Epoch 22/100\n",
      "2/2 [==============================] - 0s 5ms/step - loss: 15.5155 - mse: 331.6179\n",
      "Epoch 23/100\n",
      "2/2 [==============================] - 0s 5ms/step - loss: 9.2402 - mse: 118.6520\n",
      "Epoch 24/100\n",
      "2/2 [==============================] - 0s 5ms/step - loss: 17.2647 - mse: 408.4778\n",
      "Epoch 25/100\n",
      "2/2 [==============================] - 0s 4ms/step - loss: 15.9388 - mse: 333.7933\n",
      "Epoch 26/100\n",
      "2/2 [==============================] - 0s 7ms/step - loss: 20.9296 - mse: 649.2859\n",
      "Epoch 27/100\n",
      "2/2 [==============================] - 0s 4ms/step - loss: 25.9656 - mse: 1051.9567\n",
      "Epoch 28/100\n",
      "2/2 [==============================] - 0s 5ms/step - loss: 18.4635 - mse: 539.5651\n",
      "Epoch 29/100\n",
      "2/2 [==============================] - 0s 5ms/step - loss: 9.2432 - mse: 97.6636\n",
      "Epoch 30/100\n",
      "2/2 [==============================] - 0s 5ms/step - loss: 29.0793 - mse: 1510.6503\n",
      "Epoch 31/100\n",
      "2/2 [==============================] - 0s 6ms/step - loss: 52.6675 - mse: 4959.9316\n",
      "Epoch 32/100\n",
      "2/2 [==============================] - 0s 5ms/step - loss: 11.9245 - mse: 206.8577\n",
      "Epoch 33/100\n",
      "2/2 [==============================] - 0s 5ms/step - loss: 15.5160 - mse: 331.7204\n",
      "Epoch 34/100\n",
      "2/2 [==============================] - 0s 6ms/step - loss: 12.6104 - mse: 209.8341\n",
      "Epoch 35/100\n",
      "2/2 [==============================] - 0s 6ms/step - loss: 9.2035 - mse: 91.7623\n",
      "Epoch 36/100\n",
      "2/2 [==============================] - 0s 7ms/step - loss: 16.5026 - mse: 395.8776\n",
      "Epoch 37/100\n",
      "2/2 [==============================] - 0s 6ms/step - loss: 11.0787 - mse: 192.2559\n",
      "Epoch 38/100\n",
      "2/2 [==============================] - 0s 8ms/step - loss: 18.2073 - mse: 436.6569\n",
      "Epoch 39/100\n",
      "2/2 [==============================] - 0s 5ms/step - loss: 19.1400 - mse: 533.2651\n",
      "Epoch 40/100\n",
      "2/2 [==============================] - 0s 7ms/step - loss: 20.5020 - mse: 614.0172\n",
      "Epoch 41/100\n",
      "2/2 [==============================] - 0s 5ms/step - loss: 14.8236 - mse: 275.1148\n",
      "Epoch 42/100\n",
      "2/2 [==============================] - 0s 6ms/step - loss: 12.2161 - mse: 182.8412\n",
      "Epoch 43/100\n",
      "2/2 [==============================] - 0s 5ms/step - loss: 10.7008 - mse: 163.7513\n",
      "Epoch 44/100\n",
      "2/2 [==============================] - 0s 6ms/step - loss: 32.3178 - mse: 1718.2545\n",
      "Epoch 45/100\n",
      "2/2 [==============================] - 0s 5ms/step - loss: 12.4827 - mse: 202.5451\n",
      "Epoch 46/100\n",
      "2/2 [==============================] - 0s 5ms/step - loss: 17.5563 - mse: 461.9031\n",
      "Epoch 47/100\n",
      "2/2 [==============================] - 0s 5ms/step - loss: 15.7413 - mse: 338.7588\n",
      "Epoch 48/100\n",
      "2/2 [==============================] - 0s 5ms/step - loss: 8.3669 - mse: 112.6942\n",
      "Epoch 49/100\n",
      "2/2 [==============================] - 0s 5ms/step - loss: 13.9731 - mse: 268.6779\n",
      "Epoch 50/100\n",
      "2/2 [==============================] - 0s 5ms/step - loss: 12.8157 - mse: 215.0451\n",
      "Epoch 51/100\n",
      "2/2 [==============================] - 0s 5ms/step - loss: 14.8291 - mse: 308.9947\n",
      "Epoch 52/100\n",
      "2/2 [==============================] - 0s 4ms/step - loss: 18.7164 - mse: 528.8525\n",
      "Epoch 53/100\n",
      "2/2 [==============================] - 0s 6ms/step - loss: 24.1554 - mse: 827.6555\n",
      "Epoch 54/100\n",
      "2/2 [==============================] - 0s 4ms/step - loss: 23.2097 - mse: 807.1805\n",
      "Epoch 55/100\n",
      "2/2 [==============================] - 0s 5ms/step - loss: 24.0670 - mse: 871.7466\n",
      "Epoch 56/100\n",
      "2/2 [==============================] - 0s 4ms/step - loss: 11.1727 - mse: 171.1037\n",
      "Epoch 57/100\n",
      "2/2 [==============================] - 0s 5ms/step - loss: 13.1316 - mse: 214.6985\n",
      "Epoch 58/100\n",
      "2/2 [==============================] - 0s 4ms/step - loss: 9.8199 - mse: 106.4300\n",
      "Epoch 59/100\n",
      "2/2 [==============================] - 0s 5ms/step - loss: 13.3202 - mse: 250.1523\n",
      "Epoch 60/100\n",
      "2/2 [==============================] - 0s 4ms/step - loss: 10.8798 - mse: 139.6133\n",
      "Epoch 61/100\n",
      "2/2 [==============================] - 0s 6ms/step - loss: 13.4847 - mse: 242.2895\n",
      "Epoch 62/100\n",
      "2/2 [==============================] - 0s 4ms/step - loss: 17.5225 - mse: 468.5732\n",
      "Epoch 63/100\n",
      "2/2 [==============================] - 0s 5ms/step - loss: 9.1656 - mse: 87.7215\n",
      "Epoch 64/100\n",
      "2/2 [==============================] - 0s 5ms/step - loss: 18.3940 - mse: 491.7972\n",
      "Epoch 65/100\n",
      "2/2 [==============================] - 0s 4ms/step - loss: 10.1212 - mse: 115.0374\n",
      "Epoch 66/100\n",
      "2/2 [==============================] - 0s 4ms/step - loss: 24.2610 - mse: 888.3806\n",
      "Epoch 67/100\n",
      "2/2 [==============================] - 0s 4ms/step - loss: 10.8921 - mse: 142.8712\n",
      "Epoch 68/100\n",
      "2/2 [==============================] - 0s 4ms/step - loss: 10.7735 - mse: 159.2936\n",
      "Epoch 69/100\n",
      "2/2 [==============================] - 0s 5ms/step - loss: 23.2485 - mse: 781.2389\n",
      "Epoch 70/100\n",
      "2/2 [==============================] - 0s 5ms/step - loss: 8.8161 - mse: 143.4943\n",
      "Epoch 71/100\n",
      "2/2 [==============================] - 0s 4ms/step - loss: 15.9820 - mse: 347.8144\n",
      "Epoch 72/100\n",
      "2/2 [==============================] - 0s 6ms/step - loss: 8.1439 - mse: 109.7109\n",
      "Epoch 73/100\n",
      "2/2 [==============================] - 0s 5ms/step - loss: 9.4657 - mse: 153.1948\n",
      "Epoch 74/100\n",
      "2/2 [==============================] - 0s 5ms/step - loss: 28.1573 - mse: 1110.6033\n",
      "Epoch 75/100\n",
      "2/2 [==============================] - 0s 4ms/step - loss: 10.1977 - mse: 145.5360\n",
      "Epoch 76/100\n",
      "2/2 [==============================] - 0s 4ms/step - loss: 13.1476 - mse: 218.7382\n",
      "Epoch 77/100\n",
      "2/2 [==============================] - 0s 4ms/step - loss: 18.3854 - mse: 530.1138\n",
      "Epoch 78/100\n",
      "2/2 [==============================] - 0s 4ms/step - loss: 9.0165 - mse: 91.4436\n",
      "Epoch 79/100\n",
      "2/2 [==============================] - 0s 4ms/step - loss: 23.4342 - mse: 821.3904\n",
      "Epoch 80/100\n",
      "2/2 [==============================] - 0s 4ms/step - loss: 26.1042 - mse: 1046.9373\n",
      "Epoch 81/100\n",
      "2/2 [==============================] - 0s 4ms/step - loss: 11.3872 - mse: 158.2227\n",
      "Epoch 82/100\n",
      "2/2 [==============================] - 0s 4ms/step - loss: 12.4971 - mse: 227.6685\n",
      "Epoch 83/100\n",
      "2/2 [==============================] - 0s 5ms/step - loss: 17.1857 - mse: 384.2226\n",
      "Epoch 84/100\n",
      "2/2 [==============================] - 0s 5ms/step - loss: 6.5962 - mse: 64.5777\n",
      "Epoch 85/100\n",
      "2/2 [==============================] - 0s 5ms/step - loss: 20.2889 - mse: 575.5942\n",
      "Epoch 86/100\n"
     ]
    },
    {
     "name": "stdout",
     "output_type": "stream",
     "text": [
      "2/2 [==============================] - 0s 4ms/step - loss: 10.1678 - mse: 115.7113\n",
      "Epoch 87/100\n",
      "2/2 [==============================] - 0s 4ms/step - loss: 24.3315 - mse: 828.3157\n",
      "Epoch 88/100\n",
      "2/2 [==============================] - 0s 4ms/step - loss: 18.9969 - mse: 512.5504\n",
      "Epoch 89/100\n",
      "2/2 [==============================] - 0s 4ms/step - loss: 7.1650 - mse: 70.2278\n",
      "Epoch 90/100\n",
      "2/2 [==============================] - 0s 5ms/step - loss: 18.2607 - mse: 494.9502\n",
      "Epoch 91/100\n",
      "2/2 [==============================] - 0s 4ms/step - loss: 13.3104 - mse: 255.9959\n",
      "Epoch 92/100\n",
      "2/2 [==============================] - 0s 3ms/step - loss: 14.8614 - mse: 311.1474\n",
      "Epoch 93/100\n",
      "2/2 [==============================] - 0s 5ms/step - loss: 11.6534 - mse: 250.0413\n",
      "Epoch 94/100\n",
      "2/2 [==============================] - 0s 5ms/step - loss: 16.2099 - mse: 371.4369\n",
      "Epoch 95/100\n",
      "2/2 [==============================] - 0s 4ms/step - loss: 15.5523 - mse: 322.3720\n",
      "Epoch 96/100\n",
      "2/2 [==============================] - 0s 4ms/step - loss: 15.0874 - mse: 324.7144\n",
      "Epoch 97/100\n",
      "2/2 [==============================] - 0s 4ms/step - loss: 10.9161 - mse: 188.1679\n",
      "Epoch 98/100\n",
      "2/2 [==============================] - 0s 3ms/step - loss: 14.3770 - mse: 286.8979\n",
      "Epoch 99/100\n",
      "2/2 [==============================] - 0s 5ms/step - loss: 13.3912 - mse: 251.9421\n",
      "Epoch 100/100\n",
      "2/2 [==============================] - 0s 3ms/step - loss: 20.0188 - mse: 585.5561\n"
     ]
    },
    {
     "data": {
      "text/plain": [
       "<keras.callbacks.History at 0x14efd4db640>"
      ]
     },
     "execution_count": 40,
     "metadata": {},
     "output_type": "execute_result"
    }
   ],
   "source": [
    "tf.random.set_seed(42)\n",
    "\n",
    "model_2 = tf.keras.Sequential([\n",
    "    tf.keras.layers.Dense(10, input_shape=[1]),\n",
    "    tf.keras.layers.Dense(1)\n",
    "])\n",
    "\n",
    "model_2.compile(loss=tf.keras.losses.mae,\n",
    "             optimizer=tf.keras.optimizers.SGD(),\n",
    "             metrics=[\"mse\"])\n",
    "\n",
    "model_2.fit(X_train, y_train, epochs=100)"
   ]
  },
  {
   "cell_type": "code",
   "execution_count": 43,
   "id": "40801601",
   "metadata": {},
   "outputs": [
    {
     "name": "stdout",
     "output_type": "stream",
     "text": [
      "1/1 [==============================] - 0s 21ms/step\n"
     ]
    },
    {
     "data": {
      "image/png": "[encoded data removed]",
      "text/plain": [
       "<Figure size 1000x700 with 1 Axes>"
      ]
     },
     "metadata": {},
     "output_type": "display_data"
    }
   ],
   "source": [
    "#Make and plot predictions for model_2\n",
    "\n",
    "y_preds_2 = model_2.predict(X_test)\n",
    "plot_prediction(predictions=y_preds_2)"
   ]
  },
  {
   "cell_type": "code",
   "execution_count": 45,
   "id": "cca77513",
   "metadata": {},
   "outputs": [
    {
     "data": {
      "text/plain": [
       "(<tf.Tensor: shape=(), dtype=float32, numpy=29.525415>,\n",
       " <tf.Tensor: shape=(), dtype=float32, numpy=902.5707>)"
      ]
     },
     "execution_count": 45,
     "metadata": {},
     "output_type": "execute_result"
    }
   ],
   "source": [
    "# Calculate model_2 evaluation metrics\n",
    "\n",
    "mae_2 = mae(y_test, y_preds_2)\n",
    "mse_2 = mse(y_test, y_preds_2)\n",
    "mae_2, mse_2"
   ]
  },
  {
   "cell_type": "code",
   "execution_count": 51,
   "id": "ccc81ac9",
   "metadata": {},
   "outputs": [
    {
     "name": "stdout",
     "output_type": "stream",
     "text": [
      "Epoch 1/250\n",
      "2/2 [==============================] - 0s 8ms/step - loss: 31.6827 - mse: 1405.5219\n",
      "Epoch 2/250\n",
      "2/2 [==============================] - 0s 5ms/step - loss: 12.4394 - mse: 270.8316\n",
      "Epoch 3/250\n",
      "2/2 [==============================] - 0s 6ms/step - loss: 18.7728 - mse: 576.2275\n",
      "Epoch 4/250\n",
      "2/2 [==============================] - 0s 5ms/step - loss: 31.7112 - mse: 1510.3390\n",
      "Epoch 5/250\n",
      "2/2 [==============================] - 0s 5ms/step - loss: 13.7716 - mse: 275.4280\n",
      "Epoch 6/250\n",
      "2/2 [==============================] - 0s 10ms/step - loss: 12.5438 - mse: 242.2212\n",
      "Epoch 7/250\n",
      "2/2 [==============================] - 0s 6ms/step - loss: 13.9337 - mse: 273.4825\n",
      "Epoch 8/250\n",
      "2/2 [==============================] - 0s 6ms/step - loss: 14.5371 - mse: 355.0155\n",
      "Epoch 9/250\n",
      "2/2 [==============================] - 0s 8ms/step - loss: 4.8482 - mse: 107.2412\n",
      "Epoch 10/250\n",
      "2/2 [==============================] - 0s 5ms/step - loss: 14.3372 - mse: 321.6202\n",
      "Epoch 11/250\n",
      "2/2 [==============================] - 0s 8ms/step - loss: 13.1148 - mse: 266.5577\n",
      "Epoch 12/250\n",
      "2/2 [==============================] - 0s 10ms/step - loss: 24.1457 - mse: 857.3558\n",
      "Epoch 13/250\n",
      "2/2 [==============================] - 0s 5ms/step - loss: 20.5880 - mse: 586.6232\n",
      "Epoch 14/250\n",
      "2/2 [==============================] - 0s 6ms/step - loss: 19.1269 - mse: 522.9544\n",
      "Epoch 15/250\n",
      "2/2 [==============================] - 0s 9ms/step - loss: 9.5114 - mse: 213.4911\n",
      "Epoch 16/250\n",
      "2/2 [==============================] - 0s 5ms/step - loss: 13.5913 - mse: 258.6447\n",
      "Epoch 17/250\n",
      "2/2 [==============================] - 0s 5ms/step - loss: 19.9739 - mse: 636.2867\n",
      "Epoch 18/250\n",
      "2/2 [==============================] - 0s 6ms/step - loss: 31.9901 - mse: 1512.6189\n",
      "Epoch 19/250\n",
      "2/2 [==============================] - 0s 5ms/step - loss: 14.8108 - mse: 357.4597\n",
      "Epoch 20/250\n",
      "2/2 [==============================] - 0s 6ms/step - loss: 12.8446 - mse: 259.3551\n",
      "Epoch 21/250\n",
      "2/2 [==============================] - 0s 6ms/step - loss: 19.0759 - mse: 585.3984\n",
      "Epoch 22/250\n",
      "2/2 [==============================] - 0s 6ms/step - loss: 35.8013 - mse: 1901.3037\n",
      "Epoch 23/250\n",
      "2/2 [==============================] - 0s 6ms/step - loss: 4.9874 - mse: 120.6357\n",
      "Epoch 24/250\n",
      "2/2 [==============================] - 0s 5ms/step - loss: 13.3790 - mse: 264.2577\n",
      "Epoch 25/250\n",
      "2/2 [==============================] - 0s 6ms/step - loss: 20.6390 - mse: 651.4382\n",
      "Epoch 26/250\n",
      "2/2 [==============================] - 0s 5ms/step - loss: 31.3447 - mse: 1443.1019\n",
      "Epoch 27/250\n",
      "2/2 [==============================] - 0s 5ms/step - loss: 13.9457 - mse: 320.6024\n",
      "Epoch 28/250\n",
      "2/2 [==============================] - 0s 7ms/step - loss: 7.2040 - mse: 176.9301\n",
      "Epoch 29/250\n",
      "2/2 [==============================] - 0s 6ms/step - loss: 13.1359 - mse: 240.4932\n",
      "Epoch 30/250\n",
      "2/2 [==============================] - 0s 6ms/step - loss: 31.7661 - mse: 1371.0801\n",
      "Epoch 31/250\n",
      "2/2 [==============================] - 0s 6ms/step - loss: 3.4196 - mse: 46.8476\n",
      "Epoch 32/250\n",
      "2/2 [==============================] - 0s 7ms/step - loss: 13.2976 - mse: 293.6666\n",
      "Epoch 33/250\n",
      "2/2 [==============================] - 0s 7ms/step - loss: 11.8475 - mse: 289.2941\n",
      "Epoch 34/250\n",
      "2/2 [==============================] - 0s 6ms/step - loss: 17.6190 - mse: 507.2450\n",
      "Epoch 35/250\n",
      "2/2 [==============================] - 0s 9ms/step - loss: 18.1069 - mse: 559.0641\n",
      "Epoch 36/250\n",
      "2/2 [==============================] - 0s 6ms/step - loss: 37.9680 - mse: 2167.1003\n",
      "Epoch 37/250\n",
      "2/2 [==============================] - 0s 6ms/step - loss: 3.9683 - mse: 60.7425\n",
      "Epoch 38/250\n",
      "2/2 [==============================] - 0s 6ms/step - loss: 13.3698 - mse: 300.4243\n",
      "Epoch 39/250\n",
      "2/2 [==============================] - 0s 5ms/step - loss: 11.8341 - mse: 287.3492\n",
      "Epoch 40/250\n",
      "2/2 [==============================] - 0s 5ms/step - loss: 16.0690 - mse: 377.6222\n",
      "Epoch 41/250\n",
      "2/2 [==============================] - 0s 6ms/step - loss: 20.1252 - mse: 656.5839\n",
      "Epoch 42/250\n",
      "2/2 [==============================] - 0s 8ms/step - loss: 30.1025 - mse: 1296.4420\n",
      "Epoch 43/250\n",
      "2/2 [==============================] - 0s 4ms/step - loss: 11.2752 - mse: 443.7391\n",
      "Epoch 44/250\n",
      "2/2 [==============================] - 0s 9ms/step - loss: 25.1385 - mse: 946.0807\n",
      "Epoch 45/250\n",
      "2/2 [==============================] - 0s 6ms/step - loss: 16.5395 - mse: 388.1599\n",
      "Epoch 46/250\n",
      "2/2 [==============================] - 0s 8ms/step - loss: 8.0352 - mse: 169.2297\n",
      "Epoch 47/250\n",
      "2/2 [==============================] - 0s 9ms/step - loss: 10.3228 - mse: 209.2369\n",
      "Epoch 48/250\n",
      "2/2 [==============================] - 0s 5ms/step - loss: 13.8798 - mse: 262.3713\n",
      "Epoch 49/250\n",
      "2/2 [==============================] - 0s 6ms/step - loss: 15.3423 - mse: 331.6858\n",
      "Epoch 50/250\n",
      "2/2 [==============================] - 0s 7ms/step - loss: 17.3885 - mse: 489.3521\n",
      "Epoch 51/250\n",
      "2/2 [==============================] - 0s 8ms/step - loss: 17.9458 - mse: 503.4371\n",
      "Epoch 52/250\n",
      "2/2 [==============================] - 0s 7ms/step - loss: 41.6969 - mse: 2914.3259\n",
      "Epoch 53/250\n",
      "2/2 [==============================] - 0s 7ms/step - loss: 22.6022 - mse: 725.6213\n",
      "Epoch 54/250\n",
      "2/2 [==============================] - 0s 6ms/step - loss: 21.1779 - mse: 625.7778\n",
      "Epoch 55/250\n",
      "2/2 [==============================] - 0s 7ms/step - loss: 17.9923 - mse: 462.9149\n",
      "Epoch 56/250\n",
      "2/2 [==============================] - 0s 5ms/step - loss: 10.8102 - mse: 325.2111\n",
      "Epoch 57/250\n",
      "2/2 [==============================] - 0s 12ms/step - loss: 16.4649 - mse: 408.7863\n",
      "Epoch 58/250\n",
      "2/2 [==============================] - 0s 7ms/step - loss: 17.7871 - mse: 500.4505\n",
      "Epoch 59/250\n",
      "2/2 [==============================] - 0s 6ms/step - loss: 17.3391 - mse: 511.7708\n",
      "Epoch 60/250\n",
      "2/2 [==============================] - 0s 5ms/step - loss: 20.8622 - mse: 659.9885\n",
      "Epoch 61/250\n",
      "2/2 [==============================] - 0s 4ms/step - loss: 26.7684 - mse: 1041.9875\n",
      "Epoch 62/250\n",
      "2/2 [==============================] - 0s 8ms/step - loss: 9.9202 - mse: 208.3772\n",
      "Epoch 63/250\n",
      "2/2 [==============================] - 0s 8ms/step - loss: 13.3865 - mse: 265.1167\n",
      "Epoch 64/250\n",
      "2/2 [==============================] - 0s 6ms/step - loss: 16.7438 - mse: 468.3046\n",
      "Epoch 65/250\n",
      "2/2 [==============================] - 0s 5ms/step - loss: 14.5327 - mse: 294.5592\n",
      "Epoch 66/250\n",
      "2/2 [==============================] - 0s 4ms/step - loss: 22.3997 - mse: 772.3212\n",
      "Epoch 67/250\n",
      "2/2 [==============================] - 0s 5ms/step - loss: 24.6927 - mse: 867.3365\n",
      "Epoch 68/250\n",
      "2/2 [==============================] - 0s 5ms/step - loss: 2.9813 - mse: 41.5590\n",
      "Epoch 69/250\n",
      "2/2 [==============================] - 0s 6ms/step - loss: 19.4972 - mse: 526.3249\n",
      "Epoch 70/250\n",
      "2/2 [==============================] - 0s 8ms/step - loss: 12.3244 - mse: 270.7572\n",
      "Epoch 71/250\n",
      "2/2 [==============================] - 0s 7ms/step - loss: 17.2387 - mse: 507.9703\n",
      "Epoch 72/250\n",
      "2/2 [==============================] - 0s 8ms/step - loss: 25.3443 - mse: 906.5648\n",
      "Epoch 73/250\n",
      "2/2 [==============================] - 0s 5ms/step - loss: 8.6221 - mse: 264.0988\n",
      "Epoch 74/250\n",
      "2/2 [==============================] - 0s 6ms/step - loss: 8.3658 - mse: 174.2955\n",
      "Epoch 75/250\n",
      "2/2 [==============================] - 0s 5ms/step - loss: 14.1348 - mse: 277.0155\n",
      "Epoch 76/250\n",
      "2/2 [==============================] - 0s 8ms/step - loss: 22.4285 - mse: 748.1791\n",
      "Epoch 77/250\n",
      "2/2 [==============================] - 0s 5ms/step - loss: 24.5490 - mse: 878.7948\n",
      "Epoch 78/250\n",
      "2/2 [==============================] - 0s 8ms/step - loss: 8.8181 - mse: 267.3764\n",
      "Epoch 79/250\n",
      "2/2 [==============================] - 0s 4ms/step - loss: 11.1712 - mse: 458.9032\n",
      "Epoch 80/250\n",
      "2/2 [==============================] - 0s 6ms/step - loss: 27.2693 - mse: 1078.0723\n",
      "Epoch 81/250\n",
      "2/2 [==============================] - 0s 4ms/step - loss: 10.1263 - mse: 149.7969\n",
      "Epoch 82/250\n",
      "2/2 [==============================] - 0s 7ms/step - loss: 20.6687 - mse: 681.9905\n",
      "Epoch 83/250\n",
      "2/2 [==============================] - 0s 4ms/step - loss: 25.9651 - mse: 965.1321\n",
      "Epoch 84/250\n",
      "2/2 [==============================] - 0s 6ms/step - loss: 12.7932 - mse: 258.5121\n",
      "Epoch 85/250\n",
      "2/2 [==============================] - 0s 5ms/step - loss: 27.4717 - mse: 1079.4125\n",
      "Epoch 86/250\n"
     ]
    },
    {
     "name": "stdout",
     "output_type": "stream",
     "text": [
      "2/2 [==============================] - 0s 10ms/step - loss: 12.2848 - mse: 309.1298\n",
      "Epoch 87/250\n",
      "2/2 [==============================] - 0s 5ms/step - loss: 11.4162 - mse: 372.2168\n",
      "Epoch 88/250\n",
      "2/2 [==============================] - 0s 9ms/step - loss: 23.6447 - mse: 813.8015\n",
      "Epoch 89/250\n",
      "2/2 [==============================] - 0s 4ms/step - loss: 19.2249 - mse: 524.4207\n",
      "Epoch 90/250\n",
      "2/2 [==============================] - 0s 9ms/step - loss: 9.1155 - mse: 203.9506\n",
      "Epoch 91/250\n",
      "2/2 [==============================] - 0s 5ms/step - loss: 12.7421 - mse: 248.8556\n",
      "Epoch 92/250\n",
      "2/2 [==============================] - 0s 8ms/step - loss: 25.2518 - mse: 956.3107\n",
      "Epoch 93/250\n",
      "2/2 [==============================] - 0s 4ms/step - loss: 15.2441 - mse: 348.8690\n",
      "Epoch 94/250\n",
      "2/2 [==============================] - 0s 8ms/step - loss: 11.5501 - mse: 282.3221\n",
      "Epoch 95/250\n",
      "2/2 [==============================] - 0s 5ms/step - loss: 19.6417 - mse: 643.4175\n",
      "Epoch 96/250\n",
      "2/2 [==============================] - 0s 8ms/step - loss: 28.4817 - mse: 1170.0007\n",
      "Epoch 97/250\n",
      "2/2 [==============================] - 0s 5ms/step - loss: 17.7618 - mse: 446.8387\n",
      "Epoch 98/250\n",
      "2/2 [==============================] - 0s 6ms/step - loss: 11.5614 - mse: 276.8007\n",
      "Epoch 99/250\n",
      "2/2 [==============================] - 0s 5ms/step - loss: 14.9034 - mse: 365.9022\n",
      "Epoch 100/250\n",
      "2/2 [==============================] - 0s 5ms/step - loss: 29.3880 - mse: 1203.7484\n",
      "Epoch 101/250\n",
      "2/2 [==============================] - 0s 5ms/step - loss: 6.7850 - mse: 197.0667\n",
      "Epoch 102/250\n",
      "2/2 [==============================] - 0s 8ms/step - loss: 11.9346 - mse: 244.7447\n",
      "Epoch 103/250\n",
      "2/2 [==============================] - 0s 5ms/step - loss: 14.8163 - mse: 321.9628\n",
      "Epoch 104/250\n",
      "2/2 [==============================] - 0s 9ms/step - loss: 28.0849 - mse: 1093.2197\n",
      "Epoch 105/250\n",
      "2/2 [==============================] - 0s 6ms/step - loss: 10.0227 - mse: 226.4694\n",
      "Epoch 106/250\n",
      "2/2 [==============================] - 0s 7ms/step - loss: 13.4299 - mse: 266.4556\n",
      "Epoch 107/250\n",
      "2/2 [==============================] - 0s 5ms/step - loss: 23.3601 - mse: 833.9502\n",
      "Epoch 108/250\n",
      "2/2 [==============================] - 0s 7ms/step - loss: 19.8248 - mse: 555.0490\n",
      "Epoch 109/250\n",
      "2/2 [==============================] - 0s 6ms/step - loss: 9.6769 - mse: 246.2330\n",
      "Epoch 110/250\n",
      "2/2 [==============================] - 0s 4ms/step - loss: 11.2427 - mse: 273.6584\n",
      "Epoch 111/250\n",
      "2/2 [==============================] - 0s 7ms/step - loss: 15.9033 - mse: 425.1092\n",
      "Epoch 112/250\n",
      "2/2 [==============================] - 0s 6ms/step - loss: 25.3700 - mse: 913.5629\n",
      "Epoch 113/250\n",
      "2/2 [==============================] - 0s 5ms/step - loss: 17.8625 - mse: 458.1432\n",
      "Epoch 114/250\n",
      "2/2 [==============================] - 0s 4ms/step - loss: 12.9519 - mse: 275.1887\n",
      "Epoch 115/250\n",
      "2/2 [==============================] - 0s 4ms/step - loss: 10.8717 - mse: 362.3039\n",
      "Epoch 116/250\n",
      "2/2 [==============================] - 0s 7ms/step - loss: 18.6022 - mse: 569.2452\n",
      "Epoch 117/250\n",
      "2/2 [==============================] - 0s 4ms/step - loss: 31.2876 - mse: 1436.6990\n",
      "Epoch 118/250\n",
      "2/2 [==============================] - 0s 6ms/step - loss: 8.4667 - mse: 186.0256\n",
      "Epoch 119/250\n",
      "2/2 [==============================] - 0s 5ms/step - loss: 13.4719 - mse: 252.7307\n",
      "Epoch 120/250\n",
      "2/2 [==============================] - 0s 4ms/step - loss: 33.8837 - mse: 1604.4766\n",
      "Epoch 121/250\n",
      "2/2 [==============================] - 0s 8ms/step - loss: 13.9397 - mse: 269.6623\n",
      "Epoch 122/250\n",
      "2/2 [==============================] - 0s 7ms/step - loss: 30.4142 - mse: 1259.6995\n",
      "Epoch 123/250\n",
      "2/2 [==============================] - 0s 7ms/step - loss: 8.3577 - mse: 284.1683\n",
      "Epoch 124/250\n",
      "2/2 [==============================] - 0s 5ms/step - loss: 11.2087 - mse: 258.2422\n",
      "Epoch 125/250\n",
      "2/2 [==============================] - 0s 4ms/step - loss: 15.1265 - mse: 328.5757\n",
      "Epoch 126/250\n",
      "2/2 [==============================] - 0s 5ms/step - loss: 19.6607 - mse: 626.7966\n",
      "Epoch 127/250\n",
      "2/2 [==============================] - 0s 5ms/step - loss: 30.2557 - mse: 1371.2742\n",
      "Epoch 128/250\n",
      "2/2 [==============================] - 0s 5ms/step - loss: 13.5846 - mse: 288.0538\n",
      "Epoch 129/250\n",
      "2/2 [==============================] - 0s 8ms/step - loss: 10.2100 - mse: 408.9600\n",
      "Epoch 130/250\n",
      "2/2 [==============================] - 0s 6ms/step - loss: 15.4920 - mse: 363.4390\n",
      "Epoch 131/250\n",
      "2/2 [==============================] - 0s 6ms/step - loss: 25.9442 - mse: 955.7635\n",
      "Epoch 132/250\n",
      "2/2 [==============================] - 0s 5ms/step - loss: 13.4763 - mse: 292.2034\n",
      "Epoch 133/250\n",
      "2/2 [==============================] - 0s 9ms/step - loss: 11.8839 - mse: 299.9775\n",
      "Epoch 134/250\n",
      "2/2 [==============================] - 0s 4ms/step - loss: 16.2627 - mse: 441.1935\n",
      "Epoch 135/250\n",
      "2/2 [==============================] - 0s 5ms/step - loss: 24.7629 - mse: 888.0289\n",
      "Epoch 136/250\n",
      "2/2 [==============================] - 0s 5ms/step - loss: 19.6583 - mse: 540.7526\n",
      "Epoch 137/250\n",
      "2/2 [==============================] - 0s 8ms/step - loss: 17.7149 - mse: 441.5538\n",
      "Epoch 138/250\n",
      "2/2 [==============================] - 0s 5ms/step - loss: 9.2374 - mse: 276.7977\n",
      "Epoch 139/250\n",
      "2/2 [==============================] - 0s 7ms/step - loss: 12.8018 - mse: 254.9697\n",
      "Epoch 140/250\n",
      "2/2 [==============================] - 0s 6ms/step - loss: 22.7196 - mse: 760.9916\n",
      "Epoch 141/250\n",
      "2/2 [==============================] - 0s 6ms/step - loss: 23.0111 - mse: 739.5521\n",
      "Epoch 142/250\n",
      "2/2 [==============================] - 0s 7ms/step - loss: 20.4517 - mse: 595.7904\n",
      "Epoch 143/250\n",
      "2/2 [==============================] - 0s 5ms/step - loss: 9.3099 - mse: 192.1528\n",
      "Epoch 144/250\n",
      "2/2 [==============================] - 0s 7ms/step - loss: 13.9558 - mse: 267.9177\n",
      "Epoch 145/250\n",
      "2/2 [==============================] - 0s 5ms/step - loss: 26.2226 - mse: 968.1808\n",
      "Epoch 146/250\n",
      "2/2 [==============================] - 0s 7ms/step - loss: 11.1703 - mse: 189.8191\n",
      "Epoch 147/250\n",
      "2/2 [==============================] - 0s 5ms/step - loss: 17.2810 - mse: 468.0864\n",
      "Epoch 148/250\n",
      "2/2 [==============================] - 0s 7ms/step - loss: 21.5512 - mse: 712.2709\n",
      "Epoch 149/250\n",
      "2/2 [==============================] - 0s 5ms/step - loss: 22.2565 - mse: 694.5436\n",
      "Epoch 150/250\n",
      "2/2 [==============================] - 0s 7ms/step - loss: 11.3460 - mse: 375.4373\n",
      "Epoch 151/250\n",
      "2/2 [==============================] - 0s 5ms/step - loss: 18.4176 - mse: 575.1229\n",
      "Epoch 152/250\n",
      "2/2 [==============================] - 0s 6ms/step - loss: 33.2811 - mse: 1730.5524\n",
      "Epoch 153/250\n",
      "2/2 [==============================] - 0s 7ms/step - loss: 27.2444 - mse: 1072.0852\n",
      "Epoch 154/250\n",
      "2/2 [==============================] - 0s 6ms/step - loss: 11.1953 - mse: 276.7002\n",
      "Epoch 155/250\n",
      "2/2 [==============================] - 0s 9ms/step - loss: 13.8448 - mse: 269.3246\n",
      "Epoch 156/250\n",
      "2/2 [==============================] - 0s 5ms/step - loss: 28.9374 - mse: 1143.0659\n",
      "Epoch 157/250\n",
      "2/2 [==============================] - 0s 6ms/step - loss: 10.3065 - mse: 226.7497\n",
      "Epoch 158/250\n",
      "2/2 [==============================] - 0s 5ms/step - loss: 12.8904 - mse: 258.5037\n",
      "Epoch 159/250\n",
      "2/2 [==============================] - 0s 6ms/step - loss: 13.5216 - mse: 257.8038\n",
      "Epoch 160/250\n",
      "2/2 [==============================] - 0s 5ms/step - loss: 24.6794 - mse: 897.5741\n",
      "Epoch 161/250\n",
      "2/2 [==============================] - 0s 7ms/step - loss: 19.1737 - mse: 522.8493\n",
      "Epoch 162/250\n",
      "2/2 [==============================] - 0s 5ms/step - loss: 13.4402 - mse: 317.2060\n",
      "Epoch 163/250\n",
      "2/2 [==============================] - 0s 8ms/step - loss: 8.9681 - mse: 229.9178\n",
      "Epoch 164/250\n",
      "2/2 [==============================] - 0s 4ms/step - loss: 9.7157 - mse: 225.5999\n",
      "Epoch 165/250\n",
      "2/2 [==============================] - 0s 7ms/step - loss: 9.2210 - mse: 435.5771\n",
      "Epoch 166/250\n",
      "2/2 [==============================] - 0s 4ms/step - loss: 17.2720 - mse: 495.4677\n",
      "Epoch 167/250\n",
      "2/2 [==============================] - 0s 7ms/step - loss: 37.3328 - mse: 2159.1228\n",
      "Epoch 168/250\n",
      "2/2 [==============================] - 0s 8ms/step - loss: 16.4636 - mse: 403.4338\n",
      "Epoch 169/250\n",
      "2/2 [==============================] - 0s 8ms/step - loss: 7.1254 - mse: 155.8403\n",
      "Epoch 170/250\n"
     ]
    },
    {
     "name": "stdout",
     "output_type": "stream",
     "text": [
      "2/2 [==============================] - 0s 5ms/step - loss: 15.4310 - mse: 364.5488\n",
      "Epoch 171/250\n",
      "2/2 [==============================] - 0s 8ms/step - loss: 24.7558 - mse: 889.0172\n",
      "Epoch 172/250\n",
      "2/2 [==============================] - 0s 5ms/step - loss: 20.9073 - mse: 613.1707\n",
      "Epoch 173/250\n",
      "2/2 [==============================] - 0s 4ms/step - loss: 7.7323 - mse: 179.6327\n",
      "Epoch 174/250\n",
      "2/2 [==============================] - 0s 5ms/step - loss: 14.0237 - mse: 278.0410\n",
      "Epoch 175/250\n",
      "2/2 [==============================] - 0s 7ms/step - loss: 29.2053 - mse: 1236.2190\n",
      "Epoch 176/250\n",
      "2/2 [==============================] - 0s 5ms/step - loss: 2.8964 - mse: 29.9131\n",
      "Epoch 177/250\n",
      "2/2 [==============================] - 0s 7ms/step - loss: 7.5411 - mse: 223.1392\n",
      "Epoch 178/250\n",
      "2/2 [==============================] - 0s 4ms/step - loss: 11.7992 - mse: 244.2460\n",
      "Epoch 179/250\n",
      "2/2 [==============================] - 0s 4ms/step - loss: 13.4340 - mse: 238.0832\n",
      "Epoch 180/250\n",
      "2/2 [==============================] - 0s 6ms/step - loss: 11.4260 - mse: 335.7934\n",
      "Epoch 181/250\n",
      "2/2 [==============================] - 0s 4ms/step - loss: 16.8635 - mse: 487.3205\n",
      "Epoch 182/250\n",
      "2/2 [==============================] - 0s 5ms/step - loss: 40.3771 - mse: 2565.8643\n",
      "Epoch 183/250\n",
      "2/2 [==============================] - 0s 4ms/step - loss: 16.9383 - mse: 415.4771\n",
      "Epoch 184/250\n",
      "2/2 [==============================] - 0s 4ms/step - loss: 19.2537 - mse: 524.1201\n",
      "Epoch 185/250\n",
      "2/2 [==============================] - 0s 5ms/step - loss: 11.9331 - mse: 294.2145\n",
      "Epoch 186/250\n",
      "2/2 [==============================] - 0s 5ms/step - loss: 17.9059 - mse: 534.6519\n",
      "Epoch 187/250\n",
      "2/2 [==============================] - 0s 9ms/step - loss: 10.3605 - mse: 481.6115\n",
      "Epoch 188/250\n",
      "2/2 [==============================] - 0s 7ms/step - loss: 21.4048 - mse: 737.0541\n",
      "Epoch 189/250\n",
      "2/2 [==============================] - 0s 5ms/step - loss: 20.7967 - mse: 613.0090\n",
      "Epoch 190/250\n",
      "2/2 [==============================] - 0s 9ms/step - loss: 7.4257 - mse: 290.6105\n",
      "Epoch 191/250\n",
      "2/2 [==============================] - 0s 6ms/step - loss: 14.1482 - mse: 275.3158\n",
      "Epoch 192/250\n",
      "2/2 [==============================] - 0s 5ms/step - loss: 14.6139 - mse: 325.3148\n",
      "Epoch 193/250\n",
      "2/2 [==============================] - 0s 6ms/step - loss: 30.5879 - mse: 1325.7051\n",
      "Epoch 194/250\n",
      "2/2 [==============================] - 0s 8ms/step - loss: 9.9514 - mse: 209.9069\n",
      "Epoch 195/250\n",
      "2/2 [==============================] - 0s 10ms/step - loss: 10.8525 - mse: 361.9744\n",
      "Epoch 196/250\n",
      "2/2 [==============================] - 0s 6ms/step - loss: 19.6697 - mse: 638.3617\n",
      "Epoch 197/250\n",
      "2/2 [==============================] - 0s 5ms/step - loss: 26.6122 - mse: 1040.7273\n",
      "Epoch 198/250\n",
      "2/2 [==============================] - 0s 5ms/step - loss: 16.1906 - mse: 394.4161\n",
      "Epoch 199/250\n",
      "2/2 [==============================] - 0s 8ms/step - loss: 9.8095 - mse: 250.4018\n",
      "Epoch 200/250\n",
      "2/2 [==============================] - 0s 6ms/step - loss: 8.8104 - mse: 331.6845\n",
      "Epoch 201/250\n",
      "2/2 [==============================] - 0s 7ms/step - loss: 12.9866 - mse: 271.6253\n",
      "Epoch 202/250\n",
      "2/2 [==============================] - 0s 6ms/step - loss: 22.9529 - mse: 761.6857\n",
      "Epoch 203/250\n",
      "2/2 [==============================] - 0s 5ms/step - loss: 21.5320 - mse: 642.5554\n",
      "Epoch 204/250\n",
      "2/2 [==============================] - 0s 7ms/step - loss: 16.0814 - mse: 394.9982\n",
      "Epoch 205/250\n",
      "2/2 [==============================] - 0s 5ms/step - loss: 10.2287 - mse: 319.5731\n",
      "Epoch 206/250\n",
      "2/2 [==============================] - 0s 8ms/step - loss: 15.1050 - mse: 369.7192\n",
      "Epoch 207/250\n",
      "2/2 [==============================] - 0s 5ms/step - loss: 28.0679 - mse: 1109.5785\n",
      "Epoch 208/250\n",
      "2/2 [==============================] - 0s 6ms/step - loss: 12.1037 - mse: 292.2481\n",
      "Epoch 209/250\n",
      "2/2 [==============================] - 0s 5ms/step - loss: 8.0449 - mse: 276.9446\n",
      "Epoch 210/250\n",
      "2/2 [==============================] - 0s 5ms/step - loss: 7.4291 - mse: 202.5367\n",
      "Epoch 211/250\n",
      "2/2 [==============================] - 0s 5ms/step - loss: 12.3663 - mse: 275.1107\n",
      "Epoch 212/250\n",
      "2/2 [==============================] - 0s 8ms/step - loss: 25.9820 - mse: 981.2567\n",
      "Epoch 213/250\n",
      "2/2 [==============================] - 0s 6ms/step - loss: 9.7843 - mse: 221.0625\n",
      "Epoch 214/250\n",
      "2/2 [==============================] - 0s 6ms/step - loss: 13.1542 - mse: 254.7840\n",
      "Epoch 215/250\n",
      "2/2 [==============================] - 0s 5ms/step - loss: 25.1296 - mse: 947.7082\n",
      "Epoch 216/250\n",
      "2/2 [==============================] - 0s 7ms/step - loss: 13.0250 - mse: 294.1922\n",
      "Epoch 217/250\n",
      "2/2 [==============================] - 0s 5ms/step - loss: 7.0966 - mse: 141.5227\n",
      "Epoch 218/250\n",
      "2/2 [==============================] - 0s 7ms/step - loss: 14.6935 - mse: 299.2465\n",
      "Epoch 219/250\n",
      "2/2 [==============================] - 0s 4ms/step - loss: 17.0398 - mse: 442.8216\n",
      "Epoch 220/250\n",
      "2/2 [==============================] - 0s 6ms/step - loss: 14.0537 - mse: 314.1232\n",
      "Epoch 221/250\n",
      "2/2 [==============================] - 0s 5ms/step - loss: 33.9975 - mse: 1606.7639\n",
      "Epoch 222/250\n",
      "2/2 [==============================] - 0s 6ms/step - loss: 13.5989 - mse: 247.7998\n",
      "Epoch 223/250\n",
      "2/2 [==============================] - 0s 4ms/step - loss: 12.2364 - mse: 232.5902\n",
      "Epoch 224/250\n",
      "2/2 [==============================] - 0s 5ms/step - loss: 13.8270 - mse: 305.4277\n",
      "Epoch 225/250\n",
      "2/2 [==============================] - 0s 5ms/step - loss: 33.5505 - mse: 1581.2159\n",
      "Epoch 226/250\n",
      "2/2 [==============================] - 0s 5ms/step - loss: 14.5119 - mse: 301.9746\n",
      "Epoch 227/250\n",
      "2/2 [==============================] - 0s 12ms/step - loss: 24.4611 - mse: 871.2155\n",
      "Epoch 228/250\n",
      "2/2 [==============================] - 0s 5ms/step - loss: 17.0438 - mse: 414.4984\n",
      "Epoch 229/250\n",
      "2/2 [==============================] - 0s 8ms/step - loss: 9.6744 - mse: 358.6902\n",
      "Epoch 230/250\n",
      "2/2 [==============================] - 0s 4ms/step - loss: 13.4823 - mse: 267.5342\n",
      "Epoch 231/250\n",
      "2/2 [==============================] - 0s 5ms/step - loss: 18.6271 - mse: 566.9669\n",
      "Epoch 232/250\n",
      "2/2 [==============================] - 0s 5ms/step - loss: 31.4538 - mse: 1437.4484\n",
      "Epoch 233/250\n",
      "2/2 [==============================] - 0s 4ms/step - loss: 23.0620 - mse: 746.1027\n",
      "Epoch 234/250\n",
      "2/2 [==============================] - 0s 5ms/step - loss: 9.4944 - mse: 231.6373\n",
      "Epoch 235/250\n",
      "2/2 [==============================] - 0s 5ms/step - loss: 13.0106 - mse: 241.4244\n",
      "Epoch 236/250\n",
      "2/2 [==============================] - 0s 8ms/step - loss: 18.6212 - mse: 573.6160\n",
      "Epoch 237/250\n",
      "2/2 [==============================] - 0s 5ms/step - loss: 15.2116 - mse: 335.2927\n",
      "Epoch 238/250\n",
      "2/2 [==============================] - 0s 7ms/step - loss: 16.2917 - mse: 438.7240\n",
      "Epoch 239/250\n",
      "2/2 [==============================] - 0s 6ms/step - loss: 24.3399 - mse: 868.1652\n",
      "Epoch 240/250\n",
      "2/2 [==============================] - 0s 5ms/step - loss: 19.6045 - mse: 533.6582\n",
      "Epoch 241/250\n",
      "2/2 [==============================] - 0s 5ms/step - loss: 9.6623 - mse: 485.9145\n",
      "Epoch 242/250\n",
      "2/2 [==============================] - 0s 5ms/step - loss: 16.0257 - mse: 448.7606\n",
      "Epoch 243/250\n",
      "2/2 [==============================] - 0s 5ms/step - loss: 16.5579 - mse: 400.0844\n",
      "Epoch 244/250\n",
      "2/2 [==============================] - 0s 4ms/step - loss: 14.6175 - mse: 298.8914\n",
      "Epoch 245/250\n",
      "2/2 [==============================] - 0s 5ms/step - loss: 17.1368 - mse: 500.1782\n",
      "Epoch 246/250\n",
      "2/2 [==============================] - 0s 5ms/step - loss: 22.7230 - mse: 780.2597\n",
      "Epoch 247/250\n",
      "2/2 [==============================] - 0s 7ms/step - loss: 27.7928 - mse: 1108.2290\n",
      "Epoch 248/250\n",
      "2/2 [==============================] - 0s 6ms/step - loss: 11.1740 - mse: 245.1801\n",
      "Epoch 249/250\n",
      "2/2 [==============================] - 0s 4ms/step - loss: 13.3119 - mse: 251.6176\n",
      "Epoch 250/250\n",
      "2/2 [==============================] - 0s 5ms/step - loss: 25.8675 - mse: 988.2850\n"
     ]
    },
    {
     "data": {
      "text/plain": [
       "<keras.callbacks.History at 0x14efdb2e220>"
      ]
     },
     "execution_count": 51,
     "metadata": {},
     "output_type": "execute_result"
    }
   ],
   "source": [
    "#Build Model 3\n",
    "\n",
    "tf.random.set_seed(42)\n",
    "\n",
    "model_3 = tf.keras.Sequential([\n",
    "    tf.keras.layers.Dense(1024, input_shape=[1]),\n",
    "    tf.keras.layers.Dense(512),\n",
    "    tf.keras.layers.Dense(1)\n",
    "])\n",
    "\n",
    "model_3.compile(loss=tf.keras.losses.mae,\n",
    "             optimizer=tf.keras.optimizers.Adam(),\n",
    "             metrics=[\"mae\"])\n",
    "\n",
    "model_2.fit(X_train, y_train, epochs=250)"
   ]
  },
  {
   "cell_type": "code",
   "execution_count": 52,
   "id": "4839ac2b",
   "metadata": {},
   "outputs": [
    {
     "name": "stdout",
     "output_type": "stream",
     "text": [
      "WARNING:tensorflow:6 out of the last 9 calls to <function Model.make_predict_function.<locals>.predict_function at 0x0000014EFDC290D0> triggered tf.function retracing. Tracing is expensive and the excessive number of tracings could be due to (1) creating @tf.function repeatedly in a loop, (2) passing tensors with different shapes, (3) passing Python objects instead of tensors. For (1), please define your @tf.function outside of the loop. For (2), @tf.function has reduce_retracing=True option that can avoid unnecessary retracing. For (3), please refer to https://www.tensorflow.org/guide/function#controlling_retracing and https://www.tensorflow.org/api_docs/python/tf/function for  more details.\n",
      "1/1 [==============================] - 0s 62ms/step\n"
     ]
    },
    {
     "data": {
      "image/png": "[encoded data removed]",
      "text/plain": [
       "<Figure size 1000x700 with 1 Axes>"
      ]
     },
     "metadata": {},
     "output_type": "display_data"
    }
   ],
   "source": [
    "y_preds_3 = model_3.predict(X_test)\n",
    "plot_prediction(predictions=y_preds_3)"
   ]
  },
  {
   "cell_type": "code",
   "execution_count": 48,
   "id": "e9cf4ba6",
   "metadata": {},
   "outputs": [
    {
     "data": {
      "text/plain": [
       "(<tf.Tensor: shape=(), dtype=float32, numpy=122.38518>,\n",
       " <tf.Tensor: shape=(), dtype=float32, numpy=15252.166>)"
      ]
     },
     "execution_count": 48,
     "metadata": {},
     "output_type": "execute_result"
    }
   ],
   "source": [
    "mae_3 = mae(y_test, y_preds_3)\n",
    "mse_3 = mse(y_test, y_preds_3)\n",
    "mae_3, mse_3"
   ]
  },
  {
   "cell_type": "code",
   "execution_count": null,
   "id": "97d4aa7e",
   "metadata": {},
   "outputs": [],
   "source": [
    "#Compare Results\n",
    "\n"
   ]
  }
 ],
 "metadata": {
  "kernelspec": {
   "display_name": "Python 3 (ipykernel)",
   "language": "python",
   "name": "python3"
  },
  "language_info": {
   "codemirror_mode": {
    "name": "ipython",
    "version": 3
   },
   "file_extension": ".py",
   "mimetype": "text/x-python",
   "name": "python",
   "nbconvert_exporter": "python",
   "pygments_lexer": "ipython3",
   "version": "3.9.7"
  }
 },
 "nbformat": 4,
 "nbformat_minor": 5
}
